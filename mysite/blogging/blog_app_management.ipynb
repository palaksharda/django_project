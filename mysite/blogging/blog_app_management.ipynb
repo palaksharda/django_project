{
 "cells": [
  {
   "cell_type": "code",
   "execution_count": 1,
   "id": "2c60b010",
   "metadata": {},
   "outputs": [],
   "source": [
    "from pprint import pprint \n",
    "import os\n",
    "import django\n",
    "\n",
    "os.environ.setdefault('DJANGO_SETTINGS_MODULE', 'rest.settings')\n",
    "os.environ[\"DJANGO_ALLOW_ASYNC_UNSAFE\"] = \"true\"\n",
    "\n",
    "django.setup()"
   ]
  },
  {
   "cell_type": "markdown",
   "id": "e4c9c9b3",
   "metadata": {},
   "source": [
    "# Django Rest Framework requests For Blogging app\n",
    "    "
   ]
  },
  {
   "cell_type": "code",
   "execution_count": 2,
   "id": "1bc356f2",
   "metadata": {},
   "outputs": [],
   "source": [
    "import json \n",
    "\n",
    "from rest_framework.test import APIRequestFactory\n",
    "from rest_framework.request import Request\n",
    "from rest_framework.parsers import JSONParser\n",
    "from rest_framework.response import Response\n",
    "from rest_framework import status\n",
    "\n",
    "factory = APIRequestFactory()"
   ]
  },
  {
   "cell_type": "code",
   "execution_count": 3,
   "id": "8521e1d1",
   "metadata": {},
   "outputs": [],
   "source": [
    "def get_drf_request(method, path, data):\n",
    "    \n",
    "    factory_methods = {\n",
    "        \"GET\": factory.get,\n",
    "        \"POST\": factory.post,\n",
    "        \"PATCH\": factory.patch,\n",
    "        \"PUT\": factory.put,\n",
    "        \"DELETE\": factory.delete\n",
    "    }\n",
    "    \n",
    "    method = factory_methods[method]\n",
    "    \n",
    "    wsgi_request_instance = method(\n",
    "        path=path, \n",
    "        data=data,\n",
    "        format='json'\n",
    "    )\n",
    "\n",
    "#     print(wsgi_request_instance)\n",
    "\n",
    "    drf_request_instance = Request(\n",
    "        request=wsgi_request_instance,\n",
    "        parsers=[JSONParser()],\n",
    "    )\n",
    "\n",
    "#     print(drf_request_instance)\n",
    "\n",
    "#     print(drf_request_instance.__dict__,\"\\n\\n\")\n",
    "\n",
    "    print(\"JSON data sent in the request:\\n\", drf_request_instance.data, \"\\n\\n\")\n",
    "    print(\"Query Params sent in the request:\\n\",drf_request_instance.query_params, \"\\n\\n\")\n",
    "    return drf_request_instance"
   ]
  },
  {
   "cell_type": "code",
   "execution_count": 4,
   "id": "4c0745e0",
   "metadata": {},
   "outputs": [],
   "source": [
    "from enum import Enum\n",
    "\n",
    "class HTTP_METHODS(Enum):\n",
    "    GET = \"GET\"\n",
    "    POST = \"POST\"\n",
    "    PATCH = \"PATCH\"\n",
    "    PUT = \"PUT\"\n",
    "    DELETE = \"DELETE\"\n"
   ]
  },
  {
   "cell_type": "code",
   "execution_count": 5,
   "id": "7b096ff3",
   "metadata": {},
   "outputs": [
    {
     "name": "stdout",
     "output_type": "stream",
     "text": [
      "JSON data sent in the request:\n",
      " {'first_name': 'Dhruv', 'last_name': 'Kaushik'} \n",
      "\n",
      "\n",
      "Query Params sent in the request:\n",
      " <QueryDict: {'userId': ['1']}> \n",
      "\n",
      "\n"
     ]
    },
    {
     "data": {
      "text/plain": [
       "<rest_framework.request.Request: PATCH '/user/?userId=1'>"
      ]
     },
     "execution_count": 5,
     "metadata": {},
     "output_type": "execute_result"
    }
   ],
   "source": [
    "get_drf_request(\n",
    "    method=HTTP_METHODS.PATCH.value,\n",
    "    path=\"/user/?userId=1\",\n",
    "    data={\n",
    "        \"first_name\":\"Dhruv\",\n",
    "        \"last_name\":\"Kaushik\"\n",
    "    }\n",
    ")"
   ]
  },
  {
   "cell_type": "markdown",
   "id": "0e3f3cc6",
   "metadata": {},
   "source": [
    "# Django Filters module"
   ]
  },
  {
   "cell_type": "code",
   "execution_count": 6,
   "id": "72c9dd5f",
   "metadata": {},
   "outputs": [],
   "source": [
    "from blogging.models import *  "
   ]
  },
  {
   "cell_type": "code",
   "execution_count": 7,
   "id": "0c17d35d",
   "metadata": {},
   "outputs": [],
   "source": [
    "from django_filters.rest_framework import FilterSet, CharFilter"
   ]
  },
  {
   "cell_type": "code",
   "execution_count": 8,
   "id": "0a7f5348",
   "metadata": {},
   "outputs": [],
   "source": [
    "class PostFilter(FilterSet):\n",
    "    \"\"\"\n",
    "    A filterset class for filtering and ordering Task records\n",
    "    \"\"\"\n",
    "\n",
    "    ids = CharFilter(method='filter_with_postId')\n",
    "\n",
    "    def filter_with_postId(self, queryset, name, id):\n",
    "        print(\"filter_with_postId method is called with ( name:\", title,\"value:\", value, \")\")\n",
    "        \n",
    "        ids = value.split(',')\n",
    "        return queryset.filter(\n",
    "               id__in=ids\n",
    "          )\n",
    "\n",
    "    class Meta:\n",
    "        model = Post\n",
    "        fields = [\n",
    "            'ids',\n",
    "        ]"
   ]
  },
  {
   "cell_type": "code",
   "execution_count": 9,
   "id": "58e77ca0",
   "metadata": {},
   "outputs": [
    {
     "name": "stdout",
     "output_type": "stream",
     "text": [
      "JSON data sent in the request:\n",
      " {} \n",
      "\n",
      "\n",
      "Query Params sent in the request:\n",
      " <QueryDict: {'id': ['2']}> \n",
      "\n",
      "\n",
      "filter_with_postId method is called with ( name: id value: 2 )\n",
      "<QuerySet [<Post: Delicious One-Pot Meals for Busy Weeknights>]>\n"
     ]
    }
   ],
   "source": [
    "class PostFilter(FilterSet):\n",
    "    \"\"\"\n",
    "    A filterset class for filtering and ordering Task records\n",
    "    \"\"\"\n",
    "\n",
    "    id = CharFilter(method='filter_with_postId')\n",
    "\n",
    "    def filter_with_postId(self, queryset, name, value):\n",
    "        print(\"filter_with_postId method is called with ( name:\", name,\"value:\", value, \")\")\n",
    "        return queryset.filter(\n",
    "               id=value\n",
    "          )\n",
    "\n",
    "    class Meta:\n",
    "        model = Post\n",
    "        fields = [\n",
    "            'id',\n",
    "        ]\n",
    "\n",
    "\n",
    "\n",
    "request_instance=get_drf_request(\n",
    "    method=HTTP_METHODS.GET.value,\n",
    "    path=\"/post/?id=2\",\n",
    "    data={}\n",
    ")\n",
    "\n",
    "\n",
    "filterset = PostFilter(\n",
    "    queryset=Post.objects.all(),\n",
    "    data=request_instance.query_params,\n",
    ")\n",
    "\n",
    "filtered_qs = filterset.qs\n",
    "\n",
    "print(filtered_qs)\n"
   ]
  },
  {
   "cell_type": "code",
   "execution_count": 10,
   "id": "eb5dec2b",
   "metadata": {},
   "outputs": [
    {
     "name": "stdout",
     "output_type": "stream",
     "text": [
      "filter_with_postId method is called with ( name: id value: 2 )\n",
      "<QuerySet [<Post: Delicious One-Pot Meals for Busy Weeknights>]>\n"
     ]
    }
   ],
   "source": [
    "filterset = PostFilter(\n",
    "    queryset=Post.objects.all(),\n",
    "    data=request_instance.query_params,\n",
    ")\n",
    "\n",
    "filtered_qs = filterset.qs\n",
    "\n",
    "print(filtered_qs)"
   ]
  },
  {
   "cell_type": "code",
   "execution_count": 11,
   "id": "0187cf05",
   "metadata": {},
   "outputs": [
    {
     "name": "stdout",
     "output_type": "stream",
     "text": [
      "JSON data sent in the request:\n",
      " {} \n",
      "\n",
      "\n",
      "Query Params sent in the request:\n",
      " <QueryDict: {'post_id': ['1,2']}> \n",
      "\n",
      "\n"
     ]
    }
   ],
   "source": [
    "request_instance=get_drf_request(\n",
    "    method=HTTP_METHODS.GET.value,\n",
    "    path=\"/Post/?post_id=1,2\",\n",
    "    data={}\n",
    ")"
   ]
  },
  {
   "cell_type": "code",
   "execution_count": 12,
   "id": "9a115f30",
   "metadata": {},
   "outputs": [
    {
     "name": "stdout",
     "output_type": "stream",
     "text": [
      "JSON data sent in the request:\n",
      " {} \n",
      "\n",
      "\n",
      "Query Params sent in the request:\n",
      " <QueryDict: {'id': ['1,4']}> \n",
      "\n",
      "\n",
      "filter_with_postId method is called with ( name: id value: 1,4 )\n",
      "<QuerySet [<Post: Simply Styled: Effortless Fashion Tips>, <Post: The Daily Meal>]>\n"
     ]
    }
   ],
   "source": [
    "class PostFilter(FilterSet):\n",
    "    \"\"\"\n",
    "    A filterset class for filtering and ordering Task records\n",
    "    \"\"\"\n",
    "\n",
    "    id = CharFilter(method='filter_with_postId')\n",
    "\n",
    "    def filter_with_postId(self, queryset, name, value):\n",
    "        print(\"filter_with_postId method is called with ( name:\", name,\"value:\", value, \")\")\n",
    "        \n",
    "        id = value.split(',')\n",
    "        return queryset.filter(\n",
    "               id__in= id\n",
    "          )\n",
    "\n",
    "    class Meta:\n",
    "        model = Post\n",
    "        fields = [\n",
    "            'id',\n",
    "        ]\n",
    "\n",
    "\n",
    "request_instance=get_drf_request(\n",
    "    method=HTTP_METHODS.GET.value,\n",
    "    path=\"/Post/?id=1,4\",\n",
    "    data={}\n",
    ")\n",
    "\n",
    "            \n",
    "\n",
    "filterset = PostFilter(\n",
    "    queryset=Post.objects.all(),\n",
    "    data=request_instance.query_params,\n",
    ")\n",
    "\n",
    "filtered_qs = filterset.qs\n",
    "\n",
    "print(filtered_qs)"
   ]
  },
  {
   "cell_type": "code",
   "execution_count": 13,
   "id": "626aad58",
   "metadata": {},
   "outputs": [],
   "source": [
    "from django_filters.rest_framework import FilterSet, CharFilter\n",
    "\n",
    "class PostFilter(FilterSet):\n",
    "    \"\"\"\n",
    "    A filterset class for filtering and ordering Task records\n",
    "    \"\"\"\n",
    "\n",
    "    post_id = CharFilter(method='filter_with_post_id')\n",
    "    user_id = CharFilter(method='filter_with_user_id')\n",
    "\n",
    "    def filter_with_post_id(self, queryset, name, value):\n",
    "        print(\"filter_with_post method is called with ( name:\", name,\"value:\", value, \")\")\n",
    "        post_ids = value.split(',')\n",
    "        return queryset.filter(\n",
    "            id__in=post_ids\n",
    "        )\n",
    "    \n",
    "    def filter_with_user_id(self, queryset, name, value):\n",
    "        print(\"filter_with_user method is called with ( name:\", name,\"value:\", value, \")\")\n",
    "        user_ids = value.split(',')\n",
    "        return queryset.filter(\n",
    "            id__in =user_ids\n",
    "        )\n",
    "\n",
    "    class Meta:\n",
    "        model = Post\n",
    "        fields = [\n",
    "            'post_id',\n",
    "            'user_id',\n",
    "        ]"
   ]
  },
  {
   "cell_type": "code",
   "execution_count": 14,
   "id": "8a0fbb8d",
   "metadata": {},
   "outputs": [
    {
     "name": "stdout",
     "output_type": "stream",
     "text": [
      "JSON data sent in the request:\n",
      " {} \n",
      "\n",
      "\n",
      "Query Params sent in the request:\n",
      " <QueryDict: {'post_id': ['2'], 'user_id': ['2']}> \n",
      "\n",
      "\n",
      "filter_with_post method is called with ( name: post_id value: 2 )\n",
      "filter_with_user method is called with ( name: user_id value: 2 )\n",
      "<QuerySet [<Post: Delicious One-Pot Meals for Busy Weeknights>]>\n"
     ]
    }
   ],
   "source": [
    "request_instance = get_drf_request(\n",
    "            method=HTTP_METHODS.GET.value,\n",
    "            path='/Post/?post_id=2&user_id=2', \n",
    "            data={}\n",
    "        )\n",
    "\n",
    "\n",
    "\n",
    "\n",
    "filterset = PostFilter(\n",
    "    queryset=Post.objects.all(),\n",
    "    data=request_instance.query_params,\n",
    ")\n",
    "\n",
    "filtered_qs = filterset.qs\n",
    "\n",
    "print(filtered_qs)"
   ]
  },
  {
   "cell_type": "code",
   "execution_count": 15,
   "id": "8df9659e",
   "metadata": {},
   "outputs": [],
   "source": [
    "class PostFilter(FilterSet):\n",
    "    \"\"\"\n",
    "    A filterset class for filtering and ordering Task records\n",
    "    \"\"\"\n",
    "\n",
    "    post_id = CharFilter(method='filter_with_post_id')\n",
    "    user_id = CharFilter(method='filter_with_user_id')\n",
    "    ordering = CharFilter(method='ordering_by_params')\n",
    "\n",
    "    def filter_with_post_id(self, queryset, name, value):\n",
    "        print(\"filter_with_post method is called with ( name:\", name,\"value:\", value, \")\")\n",
    "        post_ids = value.split(',')\n",
    "        return queryset.filter(\n",
    "            id__in=post_ids\n",
    "        )\n",
    "    \n",
    "    def filter_with_user_id(self, queryset, name, value):\n",
    "        print(\"filter_with_user method is called with ( name:\", name,\"value:\", value, \")\")\n",
    "        user_ids = value.split(',')\n",
    "        return queryset.filter(\n",
    "            id__in =user_ids\n",
    "        )\n",
    "\n",
    "    def ordering_by_params(self, queryset, name, value):\n",
    "        print(\"ordering_by_params method is called with (name:\", name, \"value:\", value, \")\")\n",
    "        if value:\n",
    "            ordering_list = value.split(',')\n",
    "        else:\n",
    "            ordering_list = ['title']\n",
    "        return queryset.order_by(*ordering_list)\n",
    "\n",
    "    class Meta:\n",
    "        model = Post\n",
    "        fields = ['post_id', 'user_id', 'ordering']"
   ]
  },
  {
   "cell_type": "code",
   "execution_count": 16,
   "id": "35340acd",
   "metadata": {},
   "outputs": [
    {
     "name": "stdout",
     "output_type": "stream",
     "text": [
      "JSON data sent in the request:\n",
      " {} \n",
      "\n",
      "\n",
      "Query Params sent in the request:\n",
      " <QueryDict: {'ordering': ['title']}> \n",
      "\n",
      "\n",
      "ordering_by_params method is called with (name: ordering value: title )\n",
      "<QuerySet [<Post: Delicious One-Pot Meals for Busy Weeknights>, <Post: Easy Health Hacks for Busy Lives: Elevate Your Wel>, <Post: Simply Styled: Effortless Fashion Tips>, <Post: The Daily Meal>]>\n"
     ]
    }
   ],
   "source": [
    "request_instance = get_drf_request(\n",
    "    method=HTTP_METHODS.GET.value,\n",
    "    path='/Post/?&ordering=title',\n",
    "    data={}\n",
    ")\n",
    "\n",
    "filterset = PostFilter(\n",
    "    queryset=Post.objects.all(),\n",
    "    data=request_instance.query_params,\n",
    ")\n",
    "\n",
    "filtered_qs = filterset.qs   \n",
    "print(filtered_qs)\n"
   ]
  },
  {
   "cell_type": "markdown",
   "id": "b8af33db",
   "metadata": {},
   "source": [
    "# serializers"
   ]
  },
  {
   "cell_type": "code",
   "execution_count": 17,
   "id": "7e47105b",
   "metadata": {},
   "outputs": [],
   "source": [
    "from rest_framework.serializers import ModelSerializer, DateTimeField, SerializerMethodField\n",
    "\n",
    "class UserSerializer(ModelSerializer):\n",
    "    created_date = DateTimeField(source=\"created_at\", format=\"%Y-%m-%d at %H:%M:%S\")\n",
    "    \n",
    "    class Meta:\n",
    "        model= User\n",
    "        fields = (\"id\",\"name\",\"created_date\",\"likes\")\n",
    "                    \n",
    "class PostSerializer(ModelSerializer):\n",
    "    likes = SerializerMethodField()\n",
    "        \n",
    "    def get_likes(self, obj):\n",
    "        like_count = obj.likes.count()\n",
    "        return like_count\n",
    "    \n",
    "    created_by = UserSerializer(source=\"user\")\n",
    "    created_date = DateTimeField(source=\"created_at\", format=\"%Y-%m-%d at %H:%M:%S\")\n",
    "    \n",
    "    class Meta:    \n",
    "        model = Post\n",
    "        fields =(\"id\",\"created_by\",\"title\",\"content\",\"created_date\",\"likes\",\"category\")\n"
   ]
  },
  {
   "cell_type": "code",
   "execution_count": 18,
   "id": "550569bd",
   "metadata": {},
   "outputs": [],
   "source": [
    "def get_post_details(post_id):\n",
    "    try:\n",
    "        post = Post.objects.select_related('user').prefetch_related('likes').get(id=post_id)\n",
    "    except Post.DoesNotExist:\n",
    "        return{}\n",
    "    \n",
    "    like_count = post.likes.filter(liked=True).count()\n",
    "    \n",
    "    post_serializer = PostSerializer(post)\n",
    "    response_data= post_serializer.data\n",
    "    return response_data"
   ]
  },
  {
   "cell_type": "code",
   "execution_count": 19,
   "id": "dc2b159f",
   "metadata": {},
   "outputs": [
    {
     "data": {
      "text/plain": [
       "{'id': 3, 'created_by': {'id': 3, 'name': 'Kunal', 'created_date': '2024-06-11 at 11:50:15', 'likes': []}, 'title': 'Easy Health Hacks for Busy Lives: Elevate Your Wel', 'content': \"In today's hectic world, maintaining health can feel like an uphill battle. However, by integrating simple yet effective strategies into your routine, you can effortlessly boost your well-being. Start by prioritizing hydration—carry a water bottle and set reminders to drink regularly, enhancing energy and bodily functions. Incorporate movement throughout your day, opting for stairs over elevators and quick stretches during breaks to invigorate both body and mind. Plan meals ahead for healthier eating, prepping ingredients to ensure nutritious choices even on busy days.\\r\\n\\r\\nPrioritize quality sleep by establishing a calming bedtime routine and aiming for 7-9 hours nightly, rejuvenating your body and mind for optimal function. Finally, practice mindful eating—savor each bite, listen to hunger cues, and minimize distractions to foster a healthier relationship with food. With these easy health hacks, you can seamlessly elevate your wellness, one small step at a time.\", 'created_date': '2024-06-11 at 11:56:36', 'likes': 1, 'category': 'Health and fitness blogs'}"
      ]
     },
     "execution_count": 19,
     "metadata": {},
     "output_type": "execute_result"
    }
   ],
   "source": [
    "get_post_details(post_id=3)"
   ]
  },
  {
   "cell_type": "code",
   "execution_count": 20,
   "id": "aa5076de",
   "metadata": {},
   "outputs": [],
   "source": [
    "from rest_framework import serializers\n",
    "class UserSerializer(serializers.ModelSerializer):\n",
    "    class Meta:\n",
    "        model = User\n",
    "        fields = ['id', 'name']\n",
    "\n",
    "class PostSerializer(serializers.ModelSerializer):\n",
    "    created_by = UserSerializer(source='user')\n",
    "    liked_by = UserSerializer(source='like__user', read_only=True)\n",
    "    likes = serializers.IntegerField(source='like_count', read_only=True)\n",
    "    created_date = DateTimeField(source=\"created_at\", format=\"%Y-%m-%d at %H:%M:%S\")\n",
    "\n",
    "    class Meta:\n",
    "        model = Post\n",
    "        fields = ['id', 'title', 'content', 'created_by', 'created_date', 'liked_by', 'likes']\n"
   ]
  },
  {
   "cell_type": "code",
   "execution_count": 21,
   "id": "e4ef37b3",
   "metadata": {},
   "outputs": [],
   "source": [
    "def get_recently_liked_posts(user_id):\n",
    "    try:\n",
    "        user = User.objects.get(id=user_id)\n",
    "    except User.DoesNotExist:\n",
    "        return {}\n",
    "\n",
    "    liked_posts = (\n",
    "        Post.objects.filter(like__user=user, like__liked=True)\n",
    "        .select_related('user')\n",
    "        .prefetch_related('likes')\n",
    "        .order_by('-like__created_at')[:5]\n",
    "    )\n",
    "\n",
    "    # Add the like_count to each post\n",
    "    for post in liked_posts:\n",
    "        post.like_count = post.likes.filter(liked=True).count()\n",
    "\n",
    "    # Serialize the data\n",
    "    serializer = PostSerializer(liked_posts, many=True, context={'user': user})\n",
    "    response_data = serializer.data  \n",
    "    \n",
    "    return response_data"
   ]
  },
  {
   "cell_type": "code",
   "execution_count": 22,
   "id": "1affcae8",
   "metadata": {},
   "outputs": [
    {
     "data": {
      "text/plain": [
       "[{'id': 1, 'title': 'Simply Styled: Effortless Fashion Tips', 'content': \"Welcome to Simply Styled, your destination for easy fashion advice! We're here to make looking great a breeze with quick tips and tricks that anyone can master. Stay tuned for effortless ways to elevate your everyday style!\", 'created_by': {'id': 1, 'name': 'Palak'}, 'created_date': '2024-06-11 at 11:48:43', 'likes': 1}, {'id': 3, 'title': 'Easy Health Hacks for Busy Lives: Elevate Your Wel', 'content': \"In today's hectic world, maintaining health can feel like an uphill battle. However, by integrating simple yet effective strategies into your routine, you can effortlessly boost your well-being. Start by prioritizing hydration—carry a water bottle and set reminders to drink regularly, enhancing energy and bodily functions. Incorporate movement throughout your day, opting for stairs over elevators and quick stretches during breaks to invigorate both body and mind. Plan meals ahead for healthier eating, prepping ingredients to ensure nutritious choices even on busy days.\\r\\n\\r\\nPrioritize quality sleep by establishing a calming bedtime routine and aiming for 7-9 hours nightly, rejuvenating your body and mind for optimal function. Finally, practice mindful eating—savor each bite, listen to hunger cues, and minimize distractions to foster a healthier relationship with food. With these easy health hacks, you can seamlessly elevate your wellness, one small step at a time.\", 'created_by': {'id': 3, 'name': 'Kunal'}, 'created_date': '2024-06-11 at 11:56:36', 'likes': 1}]"
      ]
     },
     "execution_count": 22,
     "metadata": {},
     "output_type": "execute_result"
    }
   ],
   "source": [
    "get_recently_liked_posts(user_id=1)"
   ]
  },
  {
   "cell_type": "code",
   "execution_count": 23,
   "id": "15fe50f0",
   "metadata": {},
   "outputs": [],
   "source": [
    "from rest_framework.serializers import ModelSerializer, DateTimeField, SerializerMethodField\n",
    "\n",
    "class UserSerializer(serializers.ModelSerializer):\n",
    "    class Meta:\n",
    "        model = User\n",
    "        fields = ['id', 'name']\n",
    "\n",
    "class PostSerializer(serializers.ModelSerializer):\n",
    "    created_by = UserSerializer(source='user')\n",
    "    created_date = DateTimeField(source=\"created_at\", format=\"%Y-%m-%d at %H:%M:%S\")\n",
    "\n",
    "\n",
    "    class Meta:\n",
    "        model = Post\n",
    "        fields = ['id', 'title', 'content', 'created_by', 'created_date', 'likes']\n",
    "        \n",
    "class PostTypeDetailsSerializer(serializers.ModelSerializer):\n",
    "    name = serializers.CharField(source='category')\n",
    "    post_count = serializers.IntegerField()\n",
    "    \n",
    "    class Meta:\n",
    "        model = Post\n",
    "        fields = ['name','post_count']\n",
    "        \n"
   ]
  },
  {
   "cell_type": "code",
   "execution_count": 24,
   "id": "20ecac48",
   "metadata": {},
   "outputs": [],
   "source": [
    "def get_popular_posts():\n",
    "    now = timezone.now()\n",
    "    eight_days_ago = now.replace(hour=0, minute=0, second=0, microsecond=0) - timezone.timedelta(days=8)\n",
    "\n",
    "    # Fetch the top 5 posts created in the last 8 days, ordered by the count of likes\n",
    "    popular_posts = (\n",
    "        Post.objects.filter(created_at__gte=eight_days_ago)\n",
    "        .annotate(like_count=Count('like'))\n",
    "        .order_by('-like_count')[:5]\n",
    "        .select_related('user')\n",
    "    )\n",
    "\n",
    "    # Serialize the data\n",
    "    serializer = PostSerializer(popular_posts, many=True)\n",
    "    response_data = serializer.data\n",
    "\n",
    "    return response_data\n"
   ]
  },
  {
   "cell_type": "code",
   "execution_count": 25,
   "id": "60cc2c73",
   "metadata": {},
   "outputs": [
    {
     "data": {
      "text/plain": [
       "[]"
      ]
     },
     "execution_count": 25,
     "metadata": {},
     "output_type": "execute_result"
    }
   ],
   "source": [
    "get_popular_posts()"
   ]
  },
  {
   "cell_type": "code",
   "execution_count": 26,
   "id": "19aa957c",
   "metadata": {},
   "outputs": [],
   "source": [
    "def get_post_type_details():\n",
    "    # Annotate each post type with the count of posts\n",
    "    post_type_counts = (\n",
    "        Post.objects.values('category')\n",
    "        .annotate(post_count=Count('id'))\n",
    "        .order_by('category')\n",
    "    )\n",
    "\n",
    "    # Serialize the data\n",
    "    serializer = PostTypeDetailsSerializer(post_type_counts, many=True)\n",
    "    response_data = serializer.data\n",
    "\n",
    "    return response_data"
   ]
  },
  {
   "cell_type": "code",
   "execution_count": 27,
   "id": "c8ec8f80",
   "metadata": {},
   "outputs": [
    {
     "data": {
      "text/plain": [
       "[{'name': 'Fashion', 'post_count': 1}, {'name': 'Food blogs', 'post_count': 2}, {'name': 'Health and fitness blogs', 'post_count': 1}]"
      ]
     },
     "execution_count": 27,
     "metadata": {},
     "output_type": "execute_result"
    }
   ],
   "source": [
    "get_post_type_details()"
   ]
  },
  {
   "cell_type": "markdown",
   "id": "3b0ce048",
   "metadata": {},
   "source": [
    "# Pagination"
   ]
  },
  {
   "cell_type": "code",
   "execution_count": 28,
   "id": "75dd56d2",
   "metadata": {},
   "outputs": [],
   "source": [
    "from rest_framework.pagination import PageNumberPagination\n",
    "from rest_framework.response import Response"
   ]
  },
  {
   "cell_type": "code",
   "execution_count": 29,
   "id": "b735a4d5",
   "metadata": {},
   "outputs": [],
   "source": [
    "class PostPagination(PageNumberPagination):\n",
    "    page_size=2\n",
    "    page_size_query_param='page_size'\n",
    "    max_page_size=50\n",
    "    page_query_param='page'\n",
    "    \n",
    "    def get_paginated_response(self, data, message=None):\n",
    "        response_dist={\n",
    "            \"page_info\":{\n",
    "            \"result_count\": self.page.paginator.count,\n",
    "            \"page_size\": self.page_size,\n",
    "            \"page_count\": self.page.paginator.num_pages,\n",
    "            \"page\": self.page.number,\n",
    "#             \"next\": self.get_next_link(),\n",
    "#             \"previous\": self.get_previous_link(), \n",
    "        },\n",
    "        \"data\": data\n",
    "        }\n",
    "        if message:\n",
    "            response_dist['message']=message\n",
    "        return Response(response_dist)    "
   ]
  },
  {
   "cell_type": "code",
   "execution_count": 30,
   "id": "31e16be9",
   "metadata": {},
   "outputs": [
    {
     "name": "stdout",
     "output_type": "stream",
     "text": [
      "JSON data sent in the request:\n",
      " {} \n",
      "\n",
      "\n",
      "Query Params sent in the request:\n",
      " <QueryDict: {'page': ['1']}> \n",
      "\n",
      "\n",
      "<QuerySet [<Post: Simply Styled: Effortless Fashion Tips>, <Post: Easy Health Hacks for Busy Lives: Elevate Your Wel>, <Post: Delicious One-Pot Meals for Busy Weeknights>, <Post: The Daily Meal>]>\n"
     ]
    }
   ],
   "source": [
    "request_instance = get_drf_request(\n",
    "    method=HTTP_METHODS.GET.value,\n",
    "            path='/Post/?page=1', \n",
    "            data={}\n",
    "        )\n",
    "\n",
    "filterset = PostFilter(\n",
    "    queryset=Post.objects.all(),\n",
    "    data=request_instance.query_params,\n",
    ")\n",
    "\n",
    "filtered_qs = filterset.qs\n",
    "\n",
    "print(filtered_qs)"
   ]
  },
  {
   "cell_type": "code",
   "execution_count": 31,
   "id": "30e8fd57",
   "metadata": {},
   "outputs": [
    {
     "name": "stderr",
     "output_type": "stream",
     "text": [
      "C:\\Users\\Owner\\django_project\\myenv\\Lib\\site-packages\\rest_framework\\pagination.py:208: UnorderedObjectListWarning: Pagination may yield inconsistent results with an unordered object_list: <class 'blogging.models.Post'> QuerySet.\n",
      "  paginator = self.django_paginator_class(queryset, page_size)\n"
     ]
    },
    {
     "data": {
      "text/plain": [
       "[<Post: Simply Styled: Effortless Fashion Tips>,\n",
       " <Post: Easy Health Hacks for Busy Lives: Elevate Your Wel>]"
      ]
     },
     "execution_count": 31,
     "metadata": {},
     "output_type": "execute_result"
    }
   ],
   "source": [
    "paginator = PostPagination()\n",
    "\n",
    "paginated_qs = paginator.paginate_queryset(\n",
    "    queryset=filtered_qs,\n",
    "    request=request_instance\n",
    ")\n",
    "\n",
    "paginated_qs"
   ]
  },
  {
   "cell_type": "code",
   "execution_count": 32,
   "id": "8cee650c",
   "metadata": {},
   "outputs": [
    {
     "data": {
      "text/plain": [
       "[{'id': 1, 'title': 'Simply Styled: Effortless Fashion Tips', 'content': \"Welcome to Simply Styled, your destination for easy fashion advice! We're here to make looking great a breeze with quick tips and tricks that anyone can master. Stay tuned for effortless ways to elevate your everyday style!\", 'created_by': {'id': 1, 'name': 'Palak'}, 'created_date': '2024-06-11 at 11:48:43', 'likes': [2]}, {'id': 3, 'title': 'Easy Health Hacks for Busy Lives: Elevate Your Wel', 'content': \"In today's hectic world, maintaining health can feel like an uphill battle. However, by integrating simple yet effective strategies into your routine, you can effortlessly boost your well-being. Start by prioritizing hydration—carry a water bottle and set reminders to drink regularly, enhancing energy and bodily functions. Incorporate movement throughout your day, opting for stairs over elevators and quick stretches during breaks to invigorate both body and mind. Plan meals ahead for healthier eating, prepping ingredients to ensure nutritious choices even on busy days.\\r\\n\\r\\nPrioritize quality sleep by establishing a calming bedtime routine and aiming for 7-9 hours nightly, rejuvenating your body and mind for optimal function. Finally, practice mindful eating—savor each bite, listen to hunger cues, and minimize distractions to foster a healthier relationship with food. With these easy health hacks, you can seamlessly elevate your wellness, one small step at a time.\", 'created_by': {'id': 3, 'name': 'Kunal'}, 'created_date': '2024-06-11 at 11:56:36', 'likes': [1]}]"
      ]
     },
     "execution_count": 32,
     "metadata": {},
     "output_type": "execute_result"
    }
   ],
   "source": [
    "serialized_data = PostSerializer(instance=paginated_qs,  many=True).data\n",
    "\n",
    "serialized_data"
   ]
  },
  {
   "cell_type": "code",
   "execution_count": 33,
   "id": "3e29f59d",
   "metadata": {},
   "outputs": [
    {
     "data": {
      "text/plain": [
       "{'page_info': {'result_count': 4, 'page_size': 2, 'page_count': 2, 'page': 1},\n",
       " 'data': [{'id': 1, 'title': 'Simply Styled: Effortless Fashion Tips', 'content': \"Welcome to Simply Styled, your destination for easy fashion advice! We're here to make looking great a breeze with quick tips and tricks that anyone can master. Stay tuned for effortless ways to elevate your everyday style!\", 'created_by': {'id': 1, 'name': 'Palak'}, 'created_date': '2024-06-11 at 11:48:43', 'likes': [2]}, {'id': 3, 'title': 'Easy Health Hacks for Busy Lives: Elevate Your Wel', 'content': \"In today's hectic world, maintaining health can feel like an uphill battle. However, by integrating simple yet effective strategies into your routine, you can effortlessly boost your well-being. Start by prioritizing hydration—carry a water bottle and set reminders to drink regularly, enhancing energy and bodily functions. Incorporate movement throughout your day, opting for stairs over elevators and quick stretches during breaks to invigorate both body and mind. Plan meals ahead for healthier eating, prepping ingredients to ensure nutritious choices even on busy days.\\r\\n\\r\\nPrioritize quality sleep by establishing a calming bedtime routine and aiming for 7-9 hours nightly, rejuvenating your body and mind for optimal function. Finally, practice mindful eating—savor each bite, listen to hunger cues, and minimize distractions to foster a healthier relationship with food. With these easy health hacks, you can seamlessly elevate your wellness, one small step at a time.\", 'created_by': {'id': 3, 'name': 'Kunal'}, 'created_date': '2024-06-11 at 11:56:36', 'likes': [1]}],\n",
       " 'message': 'List of post records.'}"
      ]
     },
     "execution_count": 33,
     "metadata": {},
     "output_type": "execute_result"
    }
   ],
   "source": [
    "paginated_response = paginator.get_paginated_response(\n",
    "    message=\"List of post records.\",\n",
    "    data=serialized_data,\n",
    ")\n",
    "\n",
    "paginated_response.data"
   ]
  },
  {
   "cell_type": "markdown",
   "id": "bf769ff7",
   "metadata": {},
   "source": [
    "# Deserialization and validation"
   ]
  },
  {
   "cell_type": "code",
   "execution_count": 35,
   "id": "21fe4bbf",
   "metadata": {},
   "outputs": [],
   "source": [
    "def create_post(request):\n",
    "    \"\"\"\n",
    "    This function:\n",
    "        1. Extracts the data coming in the request.\n",
    "        2. Validates it. If the validation fails returns a \"400\"-\"Bad Request\" Response.\n",
    "        3. Serializes the data if the request data passed the validation & creates a new PostCategory instance\n",
    "        4. Saves the instance in the DB  \n",
    "        5. Prepares the response data and returns a \"201\" - \"Created\" Response\n",
    "    \"\"\"\n",
    "    # 1. Extracting the data coming in the request\n",
    "    request_data = request.data\n",
    "\n",
    "    # 2. Validates request_data If the validation fails returns a \"400\"-\"Bad Request\" Response.\n",
    "    if \"title\" not in request_data:\n",
    "        return Response(\n",
    "            data={\n",
    "                \"message\": f\"Title is a requried field\"\n",
    "            },\n",
    "            status=status.HTTP_400_BAD_REQUEST\n",
    "        )\n",
    "    elif any( char.isdigit() for char in request_data.get(\"title\") ) :\n",
    "        return Response(\n",
    "            data={\n",
    "                \"message\": \"Post titles are not allowed to have numbers\"\n",
    "            },\n",
    "            status=status.HTTP_400_BAD_REQUEST\n",
    "        )\n",
    "    \n",
    "    # 3. Serializes the data if the request data passed the validation & creates a new PostCategory instance\n",
    "    new_post_instance = Post(title=request_data[\"title\"])\n",
    "\n",
    "    # 4. Saves the instance in the DB \n",
    "    new_post_instance.save()\n",
    "\n",
    "    # 5. Prepares the response data and returns a \"201\" - \"Created\" Response\n",
    "    response_data = {\n",
    "        \"title\": new_post_instance.title,\n",
    "        \"id\": new_post_instance.id\n",
    "    }\n",
    "    \n",
    "    return Response(\n",
    "        data={\n",
    "            \"message\": \"New tag record created\",\n",
    "            \"data\": response_data,\n",
    "        },\n",
    "        status=status.HTTP_201_CREATED\n",
    "    )\n"
   ]
  },
  {
   "cell_type": "code",
   "execution_count": 39,
   "id": "ea172175",
   "metadata": {},
   "outputs": [
    {
     "name": "stdout",
     "output_type": "stream",
     "text": [
      "---------------------------------------- Request ----------------------------------------\n",
      "JSON data sent in the request:\n",
      " {'title': 'System Design 123'} \n",
      "\n",
      "\n",
      "Query Params sent in the request:\n",
      " <QueryDict: {}> \n",
      "\n",
      "\n",
      "----------------------------------------------------------------------------------------------------\n",
      "\n",
      "\n",
      " ======================================== Response ========================================\n",
      "400\n",
      "{'message': 'Post titles are not allowed to have numbers'}\n",
      "====================================================================================================\n"
     ]
    }
   ],
   "source": [
    "print(\"-\"*40,\"Request\",\"-\"*40)\n",
    "post_request = get_drf_request(\n",
    "    method=HTTP_METHODS.POST.value,\n",
    "    path=\"/post\",\n",
    "    data={\n",
    "        \"title\": \"System Design 123\" \n",
    "    }\n",
    ")\n",
    "print(\"-\"*100)\n",
    "\n",
    "\n",
    "print(\"\\n\\n\",\"=\"*40,\"Response\",\"=\"*40)\n",
    "\n",
    "response = create_post(post_request)\n",
    "pprint(response.status_code)\n",
    "pprint(response.data)\n",
    "print(\"=\"*100)\n"
   ]
  },
  {
   "cell_type": "code",
   "execution_count": null,
   "id": "b8970202",
   "metadata": {},
   "outputs": [],
   "source": []
  }
 ],
 "metadata": {
  "kernelspec": {
   "display_name": "Django Shell-Plus",
   "language": "python",
   "name": "django_extensions"
  },
  "language_info": {
   "codemirror_mode": {
    "name": "ipython",
    "version": 3
   },
   "file_extension": ".py",
   "mimetype": "text/x-python",
   "name": "python",
   "nbconvert_exporter": "python",
   "pygments_lexer": "ipython3",
   "version": "3.11.7"
  }
 },
 "nbformat": 4,
 "nbformat_minor": 5
}
