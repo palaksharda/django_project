{
 "cells": [
  {
   "cell_type": "code",
   "execution_count": 8,
   "id": "1ddd2cce",
   "metadata": {},
   "outputs": [],
   "source": [
    "from pprint import pprint \n",
    "import os\n",
    "import django\n",
    "\n",
    "os.environ.setdefault('DJANGO_SETTINGS_MODULE', 'rest.settings')\n",
    "os.environ[\"DJANGO_ALLOW_ASYNC_UNSAFE\"] = \"true\"\n",
    "\n",
    "django.setup()"
   ]
  },
  {
   "cell_type": "code",
   "execution_count": 9,
   "id": "0e6507b5",
   "metadata": {},
   "outputs": [],
   "source": [
    "from blogging.models import *  "
   ]
  },
  {
   "cell_type": "code",
   "execution_count": 4,
   "id": "4164144e",
   "metadata": {},
   "outputs": [
    {
     "data": {
      "text/plain": [
       "1"
      ]
     },
     "execution_count": 4,
     "metadata": {},
     "output_type": "execute_result"
    }
   ],
   "source": [
    "Post.objects.all().first().id"
   ]
  },
  {
   "cell_type": "code",
   "execution_count": 5,
   "id": "af0fb65c",
   "metadata": {},
   "outputs": [],
   "source": [
    "def get_post_details(post_id):\n",
    "    try:\n",
    "        post = Post.objects.select_related('user').prefetch_related('likes').get(id=post_id)\n",
    "    except Post.DoesNotExist:\n",
    "        return{}\n",
    "    \n",
    "   # like_count = Likes.objects.filter(post=post, liked=True).count()\n",
    "    like_count = post.likes.filter(liked=True).count()\n",
    "    \n",
    "    response_data={\n",
    "        \"id\":post_id,\n",
    "        \"created_by\":{\n",
    "            \"name\": post.user.name,\n",
    "            \"id\": post.user.id\n",
    "        },\n",
    "        \"created_date\": post.created_at,\n",
    "        \"likes\": like_count,\n",
    "        \"title\": post.title,\n",
    "        \"content\": post.content\n",
    "    }\n",
    "    \n",
    "    return response_data"
   ]
  },
  {
   "cell_type": "code",
   "execution_count": 6,
   "id": "09fa7456",
   "metadata": {},
   "outputs": [
    {
     "data": {
      "text/plain": [
       "{'id': 1,\n",
       " 'created_by': {'name': 'Palak', 'id': 1},\n",
       " 'created_date': datetime.datetime(2024, 6, 11, 11, 48, 43, 533294, tzinfo=datetime.timezone.utc),\n",
       " 'likes': 1,\n",
       " 'title': 'Simply Styled: Effortless Fashion Tips',\n",
       " 'content': \"Welcome to Simply Styled, your destination for easy fashion advice! We're here to make looking great a breeze with quick tips and tricks that anyone can master. Stay tuned for effortless ways to elevate your everyday style!\"}"
      ]
     },
     "execution_count": 6,
     "metadata": {},
     "output_type": "execute_result"
    }
   ],
   "source": [
    "get_post_details(post_id=1)"
   ]
  },
  {
   "cell_type": "code",
   "execution_count": 153,
   "id": "9627cd22",
   "metadata": {},
   "outputs": [],
   "source": [
    "from rest_framework.serializers import ModelSerializer, DateTimeField, SerializerMethodField\n",
    "\n",
    "class UserSerializer(ModelSerializer):\n",
    "    created_date = DateTimeField(source=\"created_at\", format=\"%Y-%m-%d at %H:%M:%S\")\n",
    "    \n",
    "    class Meta:\n",
    "        model= User\n",
    "        fields = (\"id\",\"name\",\"created_date\",\"likes\")\n",
    "                    \n",
    "class PostSerializer(ModelSerializer):\n",
    "    likes = SerializerMethodField()\n",
    "        \n",
    "    def get_likes(self, obj):\n",
    "        like_count = obj.likes.count()\n",
    "        return like_count\n",
    "    \n",
    "    created_by = UserSerializer(source=\"user\")\n",
    "    created_date = DateTimeField(source=\"created_at\", format=\"%Y-%m-%d at %H:%M:%S\")\n",
    "    \n",
    "    class Meta:    \n",
    "        model = Post\n",
    "        fields =(\"id\",\"created_by\",\"title\",\"content\",\"created_date\",\"likes\",\"category\")\n",
    "    "
   ]
  },
  {
   "cell_type": "code",
   "execution_count": 107,
   "id": "f8894e00",
   "metadata": {},
   "outputs": [],
   "source": [
    "def get_post_details(post_id):\n",
    "    try:\n",
    "        post = Post.objects.select_related('user').prefetch_related('likes').get(id=post_id)\n",
    "    except Post.DoesNotExist:\n",
    "        return{}\n",
    "    \n",
    "    like_count = post.likes.filter(liked=True).count()\n",
    "    \n",
    "    post_serializer = PostSerializer(post)\n",
    "    response_data= post_serializer.data\n",
    "    return response_data"
   ]
  },
  {
   "cell_type": "code",
   "execution_count": 46,
   "id": "35f33b3f",
   "metadata": {},
   "outputs": [
    {
     "data": {
      "text/plain": [
       "{'id': 3, 'created_by': {'id': 3, 'name': 'Kunal'}, 'title': 'Easy Health Hacks for Busy Lives: Elevate Your Wel', 'content': \"In today's hectic world, maintaining health can feel like an uphill battle. However, by integrating simple yet effective strategies into your routine, you can effortlessly boost your well-being. Start by prioritizing hydration—carry a water bottle and set reminders to drink regularly, enhancing energy and bodily functions. Incorporate movement throughout your day, opting for stairs over elevators and quick stretches during breaks to invigorate both body and mind. Plan meals ahead for healthier eating, prepping ingredients to ensure nutritious choices even on busy days.\\r\\n\\r\\nPrioritize quality sleep by establishing a calming bedtime routine and aiming for 7-9 hours nightly, rejuvenating your body and mind for optimal function. Finally, practice mindful eating—savor each bite, listen to hunger cues, and minimize distractions to foster a healthier relationship with food. With these easy health hacks, you can seamlessly elevate your wellness, one small step at a time.\", 'created_date': '2024-06-11 at 11:56:36', 'likes': 1, 'category': 'Health and fitness blogs'}"
      ]
     },
     "execution_count": 46,
     "metadata": {},
     "output_type": "execute_result"
    }
   ],
   "source": [
    "get_post_details(post_id=3)"
   ]
  },
  {
   "cell_type": "code",
   "execution_count": 146,
   "id": "8d4d01fd",
   "metadata": {},
   "outputs": [],
   "source": [
    "def get_user_details(user_id):\n",
    "    try:\n",
    "        user = User.objects.get(id=user_id)\n",
    "        post = Post.objects.select_related('user').prefetch_related('likes').get(id=post_id)\n",
    "    except User.DoesNotExist:\n",
    "        return{}\n",
    "    \n",
    "   # like_count = Likes.objects.filter(post=post, liked=True).count()\n",
    "    like_count = post.likes.filter(liked=True).count()\n",
    "    \n",
    "    response_data={\n",
    "        \"id\":user_id,\n",
    "        \"name\": user.name,\n",
    "        \"created_date\": user.created_at,\n",
    "        \"user_stats\":{\n",
    "            \"likes\": like_count,\n",
    "            \"created_post\": post.created_at\n",
    "        }\n",
    "    }\n",
    "    \n",
    "    return response_data"
   ]
  },
  {
   "cell_type": "code",
   "execution_count": 147,
   "id": "9f5a22cf",
   "metadata": {},
   "outputs": [
    {
     "data": {
      "text/plain": [
       "1"
      ]
     },
     "execution_count": 147,
     "metadata": {},
     "output_type": "execute_result"
    }
   ],
   "source": [
    "User.objects.all().first().id"
   ]
  },
  {
   "cell_type": "code",
   "execution_count": 158,
   "id": "9bc7da39",
   "metadata": {},
   "outputs": [],
   "source": [
    "def get_user_details(user_id, post_id):\n",
    "    try:\n",
    "        user = User.objects.get(id=user_id)\n",
    "        post = Post.objects.select_related('user').prefetch_related('likes').get(id=post_id)\n",
    "    \n",
    "    except Post.DoesNotExist:\n",
    "        return{}\n",
    "    \n",
    "    like_count = post.likes.filter(liked=True).count()\n",
    "    \n",
    "    \n",
    "    user_serializer = UserSerializer(user)\n",
    "    \n",
    "    response_data=user_serializer.data    \n",
    "    return response_data"
   ]
  },
  {
   "cell_type": "code",
   "execution_count": 170,
   "id": "d8afe03b",
   "metadata": {},
   "outputs": [
    {
     "data": {
      "text/plain": [
       "{'id': 1, 'name': 'Palak', 'created_date': '2024-06-11 at 11:44:39', 'likes': [1, 2]}"
      ]
     },
     "execution_count": 170,
     "metadata": {},
     "output_type": "execute_result"
    }
   ],
   "source": [
    "get_user_details(user_id=1, post_id=1)"
   ]
  },
  {
   "cell_type": "code",
   "execution_count": 106,
   "id": "b8ffe51f",
   "metadata": {},
   "outputs": [
    {
     "data": {
      "text/plain": [
       "{'id': 3,\n",
       " 'name': 'Kunal',\n",
       " 'created_date': datetime.datetime(2024, 6, 11, 11, 50, 15, 532225, tzinfo=datetime.timezone.utc),\n",
       " 'user_stats': {'likes': 1,\n",
       "  'created_post': datetime.datetime(2024, 6, 11, 11, 48, 43, 533294, tzinfo=datetime.timezone.utc)}}"
      ]
     },
     "execution_count": 106,
     "metadata": {},
     "output_type": "execute_result"
    }
   ],
   "source": [
    "get_user_details(user_id=3, post_id=1)"
   ]
  },
  {
   "cell_type": "code",
   "execution_count": 12,
   "id": "5921cfcc",
   "metadata": {},
   "outputs": [
    {
     "data": {
      "text/plain": [
       "{'id': 2,\n",
       " 'name': 'Tisha',\n",
       " 'created_date': datetime.datetime(2024, 6, 11, 11, 49, 45, 673226, tzinfo=datetime.timezone.utc),\n",
       " 'user_stats': {'likes': 1,\n",
       "  'created_post': datetime.datetime(2024, 6, 11, 11, 56, 36, 996314, tzinfo=datetime.timezone.utc)}}"
      ]
     },
     "execution_count": 12,
     "metadata": {},
     "output_type": "execute_result"
    }
   ],
   "source": [
    "get_user_details(user_id=2, post_id=3)"
   ]
  },
  {
   "cell_type": "code",
   "execution_count": 78,
   "id": "42b022dc",
   "metadata": {},
   "outputs": [],
   "source": [
    "def get_recently_liked_posts(user_id):\n",
    "    try:\n",
    "        user = User.objects.get(id=user_id)\n",
    "        #post = Post.objects.select_related('user').prefetch_related('likes').filter()\n",
    "        \n",
    "    except User.DoesNotExist:\n",
    "        return{}\n",
    "    \n",
    "    liked_posts = (\n",
    "        Post.objects.filter(like__user=user, like__liked=True)\n",
    "        .select_related('user')\n",
    "        .prefetch_related('likes')\n",
    "        .order_by('-like__created_at')[:5]\n",
    "    )        \n",
    "\n",
    "    \n",
    "   # like_count = Likes.objects.filter(post=post, liked=True).count()\n",
    "    #like_count = post.likes.filter(liked=True).count()\n",
    "    \n",
    "    recently_liked_posts: List[PostDetails] = []\n",
    "    for post in liked_posts:\n",
    "        like_count = post.likes.filter(liked=True).count()\n",
    "        post_details: PostDetails = {\n",
    "        \n",
    "        \"id\": post.id,\n",
    "        \"title\": post.title,\n",
    "        \"content\": post.content,\n",
    "        \"liked_by\":{\n",
    "            \"name\": user.name,\n",
    "            \"id\":user_id\n",
    "        },\n",
    "        \"created_by\":{\n",
    "           \"name\": post.user.name,\n",
    "            \"id\": post.user.id\n",
    "        },\n",
    "        \"created_date\": post.created_at,\n",
    "        \"like\": like_count,\n",
    "        }\n",
    "            \n",
    "        recently_liked_posts.append(post_details)\n",
    "\n",
    "    return recently_liked_posts\n"
   ]
  },
  {
   "cell_type": "code",
   "execution_count": 82,
   "id": "2846e655",
   "metadata": {},
   "outputs": [
    {
     "data": {
      "text/plain": [
       "[{'id': 1,\n",
       "  'title': 'Simply Styled: Effortless Fashion Tips',\n",
       "  'content': \"Welcome to Simply Styled, your destination for easy fashion advice! We're here to make looking great a breeze with quick tips and tricks that anyone can master. Stay tuned for effortless ways to elevate your everyday style!\",\n",
       "  'liked_by': {'name': 'Palak', 'id': 1},\n",
       "  'created_by': {'name': 'Palak', 'id': 1},\n",
       "  'created_date': datetime.datetime(2024, 6, 11, 11, 48, 43, 533294, tzinfo=datetime.timezone.utc),\n",
       "  'like': 1},\n",
       " {'id': 3,\n",
       "  'title': 'Easy Health Hacks for Busy Lives: Elevate Your Wel',\n",
       "  'content': \"In today's hectic world, maintaining health can feel like an uphill battle. However, by integrating simple yet effective strategies into your routine, you can effortlessly boost your well-being. Start by prioritizing hydration—carry a water bottle and set reminders to drink regularly, enhancing energy and bodily functions. Incorporate movement throughout your day, opting for stairs over elevators and quick stretches during breaks to invigorate both body and mind. Plan meals ahead for healthier eating, prepping ingredients to ensure nutritious choices even on busy days.\\r\\n\\r\\nPrioritize quality sleep by establishing a calming bedtime routine and aiming for 7-9 hours nightly, rejuvenating your body and mind for optimal function. Finally, practice mindful eating—savor each bite, listen to hunger cues, and minimize distractions to foster a healthier relationship with food. With these easy health hacks, you can seamlessly elevate your wellness, one small step at a time.\",\n",
       "  'liked_by': {'name': 'Palak', 'id': 1},\n",
       "  'created_by': {'name': 'Kunal', 'id': 3},\n",
       "  'created_date': datetime.datetime(2024, 6, 11, 11, 56, 36, 996314, tzinfo=datetime.timezone.utc),\n",
       "  'like': 1}]"
      ]
     },
     "execution_count": 82,
     "metadata": {},
     "output_type": "execute_result"
    }
   ],
   "source": [
    "get_recently_liked_posts(user_id=1)"
   ]
  },
  {
   "cell_type": "code",
   "execution_count": 2,
   "id": "06088851",
   "metadata": {},
   "outputs": [
    {
     "ename": "NameError",
     "evalue": "name 'DateTimeField' is not defined",
     "output_type": "error",
     "traceback": [
      "\u001b[1;31m---------------------------------------------------------------------------\u001b[0m",
      "\u001b[1;31mNameError\u001b[0m                                 Traceback (most recent call last)",
      "Cell \u001b[1;32mIn[2], line 7\u001b[0m\n\u001b[0;32m      4\u001b[0m         model \u001b[38;5;241m=\u001b[39m User\n\u001b[0;32m      5\u001b[0m         fields \u001b[38;5;241m=\u001b[39m [\u001b[38;5;124m'\u001b[39m\u001b[38;5;124mid\u001b[39m\u001b[38;5;124m'\u001b[39m, \u001b[38;5;124m'\u001b[39m\u001b[38;5;124mname\u001b[39m\u001b[38;5;124m'\u001b[39m]\n\u001b[1;32m----> 7\u001b[0m \u001b[38;5;28;43;01mclass\u001b[39;49;00m\u001b[43m \u001b[49m\u001b[38;5;21;43;01mPostSerializer\u001b[39;49;00m\u001b[43m(\u001b[49m\u001b[43mserializers\u001b[49m\u001b[38;5;241;43m.\u001b[39;49m\u001b[43mModelSerializer\u001b[49m\u001b[43m)\u001b[49m\u001b[43m:\u001b[49m\n\u001b[0;32m      8\u001b[0m \u001b[43m    \u001b[49m\u001b[43mcreated_by\u001b[49m\u001b[43m \u001b[49m\u001b[38;5;241;43m=\u001b[39;49m\u001b[43m \u001b[49m\u001b[43mUserSerializer\u001b[49m\u001b[43m(\u001b[49m\u001b[43msource\u001b[49m\u001b[38;5;241;43m=\u001b[39;49m\u001b[38;5;124;43m'\u001b[39;49m\u001b[38;5;124;43muser\u001b[39;49m\u001b[38;5;124;43m'\u001b[39;49m\u001b[43m)\u001b[49m\n\u001b[0;32m      9\u001b[0m \u001b[43m    \u001b[49m\u001b[43mliked_by\u001b[49m\u001b[43m \u001b[49m\u001b[38;5;241;43m=\u001b[39;49m\u001b[43m \u001b[49m\u001b[43mUserSerializer\u001b[49m\u001b[43m(\u001b[49m\u001b[43msource\u001b[49m\u001b[38;5;241;43m=\u001b[39;49m\u001b[38;5;124;43m'\u001b[39;49m\u001b[38;5;124;43mlike__user\u001b[39;49m\u001b[38;5;124;43m'\u001b[39;49m\u001b[43m,\u001b[49m\u001b[43m \u001b[49m\u001b[43mread_only\u001b[49m\u001b[38;5;241;43m=\u001b[39;49m\u001b[38;5;28;43;01mTrue\u001b[39;49;00m\u001b[43m)\u001b[49m\n",
      "Cell \u001b[1;32mIn[2], line 11\u001b[0m, in \u001b[0;36mPostSerializer\u001b[1;34m()\u001b[0m\n\u001b[0;32m      9\u001b[0m liked_by \u001b[38;5;241m=\u001b[39m UserSerializer(source\u001b[38;5;241m=\u001b[39m\u001b[38;5;124m'\u001b[39m\u001b[38;5;124mlike__user\u001b[39m\u001b[38;5;124m'\u001b[39m, read_only\u001b[38;5;241m=\u001b[39m\u001b[38;5;28;01mTrue\u001b[39;00m)\n\u001b[0;32m     10\u001b[0m likes \u001b[38;5;241m=\u001b[39m serializers\u001b[38;5;241m.\u001b[39mIntegerField(source\u001b[38;5;241m=\u001b[39m\u001b[38;5;124m'\u001b[39m\u001b[38;5;124mlike_count\u001b[39m\u001b[38;5;124m'\u001b[39m, read_only\u001b[38;5;241m=\u001b[39m\u001b[38;5;28;01mTrue\u001b[39;00m)\n\u001b[1;32m---> 11\u001b[0m created_date \u001b[38;5;241m=\u001b[39m \u001b[43mDateTimeField\u001b[49m(source\u001b[38;5;241m=\u001b[39m\u001b[38;5;124m\"\u001b[39m\u001b[38;5;124mcreated_at\u001b[39m\u001b[38;5;124m\"\u001b[39m, \u001b[38;5;28mformat\u001b[39m\u001b[38;5;241m=\u001b[39m\u001b[38;5;124m\"\u001b[39m\u001b[38;5;124m%\u001b[39m\u001b[38;5;124mY-\u001b[39m\u001b[38;5;124m%\u001b[39m\u001b[38;5;124mm-\u001b[39m\u001b[38;5;132;01m%d\u001b[39;00m\u001b[38;5;124m at \u001b[39m\u001b[38;5;124m%\u001b[39m\u001b[38;5;124mH:\u001b[39m\u001b[38;5;124m%\u001b[39m\u001b[38;5;124mM:\u001b[39m\u001b[38;5;124m%\u001b[39m\u001b[38;5;124mS\u001b[39m\u001b[38;5;124m\"\u001b[39m)\n\u001b[0;32m     13\u001b[0m \u001b[38;5;28;01mclass\u001b[39;00m \u001b[38;5;21;01mMeta\u001b[39;00m:\n\u001b[0;32m     14\u001b[0m     model \u001b[38;5;241m=\u001b[39m Post\n",
      "\u001b[1;31mNameError\u001b[0m: name 'DateTimeField' is not defined"
     ]
    }
   ],
   "source": [
    "from rest_framework import serializers\n",
    "class UserSerializer(serializers.ModelSerializer):\n",
    "    class Meta:\n",
    "        model = User\n",
    "        fields = ['id', 'name']\n",
    "\n",
    "class PostSerializer(serializers.ModelSerializer):\n",
    "    created_by = UserSerializer(source='user')\n",
    "    liked_by = UserSerializer(source='like__user', read_only=True)\n",
    "    likes = serializers.IntegerField(source='like_count', read_only=True)\n",
    "    created_date = DateTimeField(source=\"created_at\", format=\"%Y-%m-%d at %H:%M:%S\")\n",
    "\n",
    "    class Meta:\n",
    "        model = Post\n",
    "        fields = ['id', 'title', 'content', 'created_by', 'created_date', 'liked_by', 'likes']\n"
   ]
  },
  {
   "cell_type": "code",
   "execution_count": 472,
   "id": "9020f47a",
   "metadata": {},
   "outputs": [],
   "source": [
    "def get_recently_liked_posts(user_id):\n",
    "    try:\n",
    "        user = User.objects.get(id=user_id)\n",
    "    except User.DoesNotExist:\n",
    "        return {}\n",
    "\n",
    "    liked_posts = (\n",
    "        Post.objects.filter(like__user=user, like__liked=True)\n",
    "        .select_related('user')\n",
    "        .prefetch_related('likes')\n",
    "        .order_by('-like__created_at')[:5]\n",
    "    )\n",
    "\n",
    "    # Add the like_count to each post\n",
    "    for post in liked_posts:\n",
    "        post.like_count = post.likes.filter(liked=True).count()\n",
    "\n",
    "    # Serialize the data\n",
    "    serializer = PostSerializer(liked_posts, many=True, context={'user': user})\n",
    "    response_data = serializer.data  \n",
    "    \n",
    "    return response_data\n"
   ]
  },
  {
   "cell_type": "code",
   "execution_count": 479,
   "id": "3f040a33",
   "metadata": {},
   "outputs": [
    {
     "data": {
      "text/plain": [
       "[{'id': 1, 'title': 'Simply Styled: Effortless Fashion Tips', 'content': \"Welcome to Simply Styled, your destination for easy fashion advice! We're here to make looking great a breeze with quick tips and tricks that anyone can master. Stay tuned for effortless ways to elevate your everyday style!\", 'created_by': {'id': 1, 'name': 'Palak'}, 'created_date': '2024-06-11 at 11:48:43', 'likes': 1}, {'id': 3, 'title': 'Easy Health Hacks for Busy Lives: Elevate Your Wel', 'content': \"In today's hectic world, maintaining health can feel like an uphill battle. However, by integrating simple yet effective strategies into your routine, you can effortlessly boost your well-being. Start by prioritizing hydration—carry a water bottle and set reminders to drink regularly, enhancing energy and bodily functions. Incorporate movement throughout your day, opting for stairs over elevators and quick stretches during breaks to invigorate both body and mind. Plan meals ahead for healthier eating, prepping ingredients to ensure nutritious choices even on busy days.\\r\\n\\r\\nPrioritize quality sleep by establishing a calming bedtime routine and aiming for 7-9 hours nightly, rejuvenating your body and mind for optimal function. Finally, practice mindful eating—savor each bite, listen to hunger cues, and minimize distractions to foster a healthier relationship with food. With these easy health hacks, you can seamlessly elevate your wellness, one small step at a time.\", 'created_by': {'id': 3, 'name': 'Kunal'}, 'created_date': '2024-06-11 at 11:56:36', 'likes': 1}]"
      ]
     },
     "execution_count": 479,
     "metadata": {},
     "output_type": "execute_result"
    }
   ],
   "source": [
    "get_recently_liked_posts(user_id=1)"
   ]
  },
  {
   "cell_type": "code",
   "execution_count": 475,
   "id": "f023f1d8",
   "metadata": {},
   "outputs": [],
   "source": [
    "def get_popular_posts():\n",
    "\n",
    "    now = timezone.now()\n",
    "    seven_days_ago = now.replace(hour=0, minute=0, second=0, microsecond=0) - timezone.timedelta(days=7)\n",
    "\n",
    "    # Fetch the top 5 posts created in the last 7 days, ordered by the count of likes\n",
    "    popular_posts = (\n",
    "        Post.objects.filter(created_at__gte=seven_days_ago)\n",
    "        .annotate(like_count=Count('like'))\n",
    "        .order_by('-like_count')[:5]\n",
    "        .select_related('user')\n",
    "    )\n",
    "\n",
    "    popular_posts_data: List[PostDetails] = []\n",
    "    for post in popular_posts:\n",
    "        post_details: PostDetails = {\n",
    "            \"id\": post.id,\n",
    "            \"title\": post.title,\n",
    "            \"content\": post.content,\n",
    "            \"created_by\": {\n",
    "                \"name\": post.user.name,\n",
    "                \"id\": post.user.id\n",
    "            },\n",
    "            \"created_date\": post.created_at.isoformat(),\n",
    "            \"likes\": post.like_count\n",
    "        }\n",
    "        popular_posts_data.append(post_details)\n",
    "\n",
    "    return popular_posts_data"
   ]
  },
  {
   "cell_type": "code",
   "execution_count": 476,
   "id": "01974e60",
   "metadata": {},
   "outputs": [
    {
     "data": {
      "text/plain": [
       "[{'id': 4,\n",
       "  'title': 'The Daily Meal',\n",
       "  'content': 'The Daily Meal is a comprehensive food and drink website that was launched in 2011. It aims to cover all aspects of the culinary world, offering readers a wide array of content that ranges from recipes and cooking tips to restaurant reviews and travel guides. The blog is known for its extensive coverage of food-related topics, making it a one-stop destination for food enthusiasts.',\n",
       "  'created_by': {'name': 'Palak', 'id': 1},\n",
       "  'created_date': '2024-06-12T18:47:41.339732+00:00',\n",
       "  'likes': 0}]"
      ]
     },
     "execution_count": 476,
     "metadata": {},
     "output_type": "execute_result"
    }
   ],
   "source": [
    "get_popular_posts()"
   ]
  },
  {
   "cell_type": "code",
   "execution_count": 59,
   "id": "b83ad5ee",
   "metadata": {},
   "outputs": [
    {
     "data": {
      "text/plain": [
       "[{'id': 1,\n",
       "  'title': 'Simply Styled: Effortless Fashion Tips',\n",
       "  'content': \"Welcome to Simply Styled, your destination for easy fashion advice! We're here to make looking great a breeze with quick tips and tricks that anyone can master. Stay tuned for effortless ways to elevate your everyday style!\",\n",
       "  'created_by': {'name': 'Palak', 'id': 1},\n",
       "  'created_date': '2024-06-11T11:48:43.533294+00:00',\n",
       "  'likes': 1},\n",
       " {'id': 3,\n",
       "  'title': 'Easy Health Hacks for Busy Lives: Elevate Your Wel',\n",
       "  'content': \"In today's hectic world, maintaining health can feel like an uphill battle. However, by integrating simple yet effective strategies into your routine, you can effortlessly boost your well-being. Start by prioritizing hydration—carry a water bottle and set reminders to drink regularly, enhancing energy and bodily functions. Incorporate movement throughout your day, opting for stairs over elevators and quick stretches during breaks to invigorate both body and mind. Plan meals ahead for healthier eating, prepping ingredients to ensure nutritious choices even on busy days.\\r\\n\\r\\nPrioritize quality sleep by establishing a calming bedtime routine and aiming for 7-9 hours nightly, rejuvenating your body and mind for optimal function. Finally, practice mindful eating—savor each bite, listen to hunger cues, and minimize distractions to foster a healthier relationship with food. With these easy health hacks, you can seamlessly elevate your wellness, one small step at a time.\",\n",
       "  'created_by': {'name': 'Kunal', 'id': 3},\n",
       "  'created_date': '2024-06-11T11:56:36.996314+00:00',\n",
       "  'likes': 1},\n",
       " {'id': 2,\n",
       "  'title': 'Delicious One-Pot Meals for Busy Weeknights',\n",
       "  'content': \"In today's fast-paced world, finding time to cook a delicious and nutritious meal can be a challenge. That's where one-pot meals come to the rescue! These easy and convenient dishes require minimal prep and cleanup, making them perfect for busy weeknights when time is of the essence. In this blog post, we'll share five mouthwatering one-pot meal recipes that will satisfy your hunger and simplify your evenings. From hearty soups to flavorful pasta dishes, these recipes are sure to become staples in your kitchen repertoire. So grab your favorite pot and let's get cooking!\",\n",
       "  'created_by': {'name': 'Tisha', 'id': 2},\n",
       "  'created_date': '2024-06-11T11:54:31.105002+00:00',\n",
       "  'likes': 0},\n",
       " {'id': 4,\n",
       "  'title': 'The Daily Meal',\n",
       "  'content': 'The Daily Meal is a comprehensive food and drink website that was launched in 2011. It aims to cover all aspects of the culinary world, offering readers a wide array of content that ranges from recipes and cooking tips to restaurant reviews and travel guides. The blog is known for its extensive coverage of food-related topics, making it a one-stop destination for food enthusiasts.',\n",
       "  'created_by': {'name': 'Palak', 'id': 1},\n",
       "  'created_date': '2024-06-12T18:47:41.339732+00:00',\n",
       "  'likes': 0}]"
      ]
     },
     "execution_count": 59,
     "metadata": {},
     "output_type": "execute_result"
    }
   ],
   "source": [
    "get_popular_posts()"
   ]
  },
  {
   "cell_type": "code",
   "execution_count": 463,
   "id": "b2645fc7",
   "metadata": {},
   "outputs": [],
   "source": [
    "from rest_framework.serializers import ModelSerializer, DateTimeField, SerializerMethodField\n",
    "\n",
    "class UserSerializer(serializers.ModelSerializer):\n",
    "    class Meta:\n",
    "        model = User\n",
    "        fields = ['id', 'name']\n",
    "\n",
    "class PostSerializer(serializers.ModelSerializer):\n",
    "    created_by = UserSerializer(source='user')\n",
    "    likes = serializers.IntegerField(source='like_count')\n",
    "    created_date = DateTimeField(source=\"created_at\", format=\"%Y-%m-%d at %H:%M:%S\")\n",
    "\n",
    "\n",
    "    class Meta:\n",
    "        model = Post\n",
    "        fields = ['id', 'title', 'content', 'created_by', 'created_date', 'likes']\n",
    "        \n",
    "class PostTypeDetailsSerializer(serializers.ModelSerializer):\n",
    "    name = serializers.CharField(source='category')\n",
    "    post_count = serializers.IntegerField()\n",
    "    \n",
    "    class Meta:\n",
    "        model = Post\n",
    "        fields = ['name','post_count']\n",
    "        \n"
   ]
  },
  {
   "cell_type": "code",
   "execution_count": 445,
   "id": "786bf98e",
   "metadata": {},
   "outputs": [],
   "source": [
    "def get_popular_posts():\n",
    "    now = timezone.now()\n",
    "    seven_days_ago = now.replace(hour=0, minute=0, second=0, microsecond=0) - timezone.timedelta(days=7)\n",
    "\n",
    "    # Fetch the top 5 posts created in the last 7 days, ordered by the count of likes\n",
    "    popular_posts = (\n",
    "        Post.objects.filter(created_at__gte=seven_days_ago)\n",
    "        .annotate(like_count=Count('like'))\n",
    "        .order_by('-like_count')[:5]\n",
    "        .select_related('user')\n",
    "    )\n",
    "\n",
    "    # Serialize the data\n",
    "    serializer = PostSerializer(popular_posts, many=True)\n",
    "    response_data = serializer.data\n",
    "\n",
    "    return response_data\n"
   ]
  },
  {
   "cell_type": "code",
   "execution_count": 446,
   "id": "53704095",
   "metadata": {},
   "outputs": [
    {
     "data": {
      "text/plain": [
       "[{'id': 4, 'title': 'The Daily Meal', 'content': 'The Daily Meal is a comprehensive food and drink website that was launched in 2011. It aims to cover all aspects of the culinary world, offering readers a wide array of content that ranges from recipes and cooking tips to restaurant reviews and travel guides. The blog is known for its extensive coverage of food-related topics, making it a one-stop destination for food enthusiasts.', 'created_by': {'id': 1, 'name': 'Palak'}, 'created_date': '2024-06-12 at 18:47:41', 'likes': 0}]"
      ]
     },
     "execution_count": 446,
     "metadata": {},
     "output_type": "execute_result"
    }
   ],
   "source": [
    "get_popular_posts()"
   ]
  },
  {
   "cell_type": "code",
   "execution_count": 466,
   "id": "077ba336",
   "metadata": {},
   "outputs": [],
   "source": [
    "def get_post_type_details():\n",
    "    # Annotate each post type with the count of posts\n",
    "    post_type_counts = (\n",
    "        Post.objects.values('category')\n",
    "        .annotate(post_count=Count('id'))\n",
    "        .order_by('category')\n",
    "    )\n",
    "\n",
    "    # Serialize the data\n",
    "    serializer = PostTypeDetailsSerializer(post_type_counts, many=True)\n",
    "    response_data = serializer.data\n",
    "\n",
    "    return response_data\n"
   ]
  },
  {
   "cell_type": "code",
   "execution_count": 467,
   "id": "997b9aec",
   "metadata": {},
   "outputs": [
    {
     "data": {
      "text/plain": [
       "[{'name': 'Fashion', 'post_count': 1}, {'name': 'Food blogs', 'post_count': 2}, {'name': 'Health and fitness blogs', 'post_count': 1}]"
      ]
     },
     "execution_count": 467,
     "metadata": {},
     "output_type": "execute_result"
    }
   ],
   "source": [
    "get_post_type_details()"
   ]
  },
  {
   "cell_type": "code",
   "execution_count": 459,
   "id": "1d83644b",
   "metadata": {},
   "outputs": [],
   "source": [
    "def get_post_type_details():\n",
    "    \n",
    "    # Annotate each post type with the count of posts\n",
    "    post_type_counts = (\n",
    "        Post.objects.values('category')\n",
    "        .annotate(post_count=Count('id'))\n",
    "        .order_by('category')\n",
    "    )\n",
    "\n",
    "    post_type_details: List[PostTypeDetails] = []\n",
    "    for post in post_type_counts:\n",
    "        post_type_detail: PostTypeDetails = {\n",
    "            \"name\": post['category'],\n",
    "            \"post_count\": post['post_count']\n",
    "        }\n",
    "        post_type_details.append(post_type_detail)\n",
    "\n",
    "    return post_type_details"
   ]
  },
  {
   "cell_type": "code",
   "execution_count": 460,
   "id": "a0e4152e",
   "metadata": {},
   "outputs": [
    {
     "data": {
      "text/plain": [
       "[{'name': 'Fashion', 'post_count': 1},\n",
       " {'name': 'Food blogs', 'post_count': 2},\n",
       " {'name': 'Health and fitness blogs', 'post_count': 1}]"
      ]
     },
     "execution_count": 460,
     "metadata": {},
     "output_type": "execute_result"
    }
   ],
   "source": [
    "get_post_type_details()"
   ]
  },
  {
   "cell_type": "code",
   "execution_count": null,
   "id": "ea91d008",
   "metadata": {},
   "outputs": [],
   "source": []
  },
  {
   "cell_type": "code",
   "execution_count": null,
   "id": "75a2e20e",
   "metadata": {},
   "outputs": [],
   "source": []
  }
 ],
 "metadata": {
  "kernelspec": {
   "display_name": "Django Shell-Plus",
   "language": "python",
   "name": "django_extensions"
  },
  "language_info": {
   "codemirror_mode": {
    "name": "ipython",
    "version": 3
   },
   "file_extension": ".py",
   "mimetype": "text/x-python",
   "name": "python",
   "nbconvert_exporter": "python",
   "pygments_lexer": "ipython3",
   "version": "3.11.7"
  }
 },
 "nbformat": 4,
 "nbformat_minor": 5
}
