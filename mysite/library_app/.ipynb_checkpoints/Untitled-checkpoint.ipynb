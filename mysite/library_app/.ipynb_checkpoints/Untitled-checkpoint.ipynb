{
 "cells": [
  {
   "cell_type": "code",
   "execution_count": 83,
   "id": "a431642d",
   "metadata": {},
   "outputs": [],
   "source": [
    "from pprint import pprint \n",
    "import os\n",
    "import django\n",
    "\n",
    "os.environ.setdefault('DJANGO_SETTINGS_MODULE', 'rest.settings')\n",
    "os.environ[\"DJANGO_ALLOW_ASYNC_UNSAFE\"] = \"true\"\n",
    "\n",
    "django.setup()"
   ]
  },
  {
   "cell_type": "code",
   "execution_count": 84,
   "id": "f9bd4d94",
   "metadata": {},
   "outputs": [],
   "source": [
    "from library_app.models import *  "
   ]
  },
  {
   "cell_type": "code",
   "execution_count": 85,
   "id": "e8eefbef",
   "metadata": {},
   "outputs": [],
   "source": [
    "from django.shortcuts import get_object_or_404\n",
    "from rest_framework.response import Response\n",
    "from rest_framework import status"
   ]
  },
  {
   "cell_type": "code",
   "execution_count": 86,
   "id": "37f7f2f3",
   "metadata": {},
   "outputs": [
    {
     "ename": "ImportError",
     "evalue": "attempted relative import with no known parent package",
     "output_type": "error",
     "traceback": [
      "\u001b[1;31m---------------------------------------------------------------------------\u001b[0m",
      "\u001b[1;31mImportError\u001b[0m                               Traceback (most recent call last)",
      "Cell \u001b[1;32mIn[86], line 1\u001b[0m\n\u001b[1;32m----> 1\u001b[0m \u001b[38;5;28;01mfrom\u001b[39;00m \u001b[38;5;21;01m.\u001b[39;00m\u001b[38;5;21;01mmodels\u001b[39;00m \u001b[38;5;28;01mimport\u001b[39;00m BookDetail  \u001b[38;5;66;03m# Adjust the import path as needed\u001b[39;00m\n",
      "\u001b[1;31mImportError\u001b[0m: attempted relative import with no known parent package"
     ]
    }
   ],
   "source": [
    "from .models import BookDetail  # Adjust the import path as needed"
   ]
  },
  {
   "cell_type": "code",
   "execution_count": 5,
   "id": "1b14b6ef",
   "metadata": {},
   "outputs": [
    {
     "ename": "TypeError",
     "evalue": "create_book_detail() missing 1 required positional argument: 'data'",
     "output_type": "error",
     "traceback": [
      "\u001b[1;31m---------------------------------------------------------------------------\u001b[0m",
      "\u001b[1;31mTypeError\u001b[0m                                 Traceback (most recent call last)",
      "Cell \u001b[1;32mIn[5], line 1\u001b[0m\n\u001b[1;32m----> 1\u001b[0m \u001b[43mcreate_book_detail\u001b[49m\u001b[43m(\u001b[49m\u001b[43m)\u001b[49m\n",
      "\u001b[1;31mTypeError\u001b[0m: create_book_detail() missing 1 required positional argument: 'data'"
     ]
    }
   ],
   "source": [
    "create_book_detail()"
   ]
  },
  {
   "cell_type": "code",
   "execution_count": 6,
   "id": "bc70be13",
   "metadata": {},
   "outputs": [
    {
     "ename": "NameError",
     "evalue": "name 'data' is not defined",
     "output_type": "error",
     "traceback": [
      "\u001b[1;31m---------------------------------------------------------------------------\u001b[0m",
      "\u001b[1;31mNameError\u001b[0m                                 Traceback (most recent call last)",
      "Cell \u001b[1;32mIn[6], line 1\u001b[0m\n\u001b[1;32m----> 1\u001b[0m create_book_detail(\u001b[43mdata\u001b[49m)\n\u001b[0;32m      2\u001b[0m data \u001b[38;5;241m=\u001b[39m {\n\u001b[0;32m      3\u001b[0m     \u001b[38;5;124m\"\u001b[39m\u001b[38;5;124mname\u001b[39m\u001b[38;5;124m\"\u001b[39m: \u001b[38;5;124m\"\u001b[39m\u001b[38;5;124mUpdated Book Name\u001b[39m\u001b[38;5;124m\"\u001b[39m,\n\u001b[0;32m      4\u001b[0m     \u001b[38;5;124m\"\u001b[39m\u001b[38;5;124mauthors\u001b[39m\u001b[38;5;124m\"\u001b[39m: [\u001b[38;5;241m2\u001b[39m, \u001b[38;5;241m3\u001b[39m]\n\u001b[0;32m      5\u001b[0m }\n",
      "\u001b[1;31mNameError\u001b[0m: name 'data' is not defined"
     ]
    }
   ],
   "source": [
    "create_book_detail(data)"
   ]
  },
  {
   "cell_type": "code",
   "execution_count": 17,
   "id": "00722b57",
   "metadata": {},
   "outputs": [
    {
     "ename": "IntegrityError",
     "evalue": "insert or update on table \"library_app_bookdetail_authors\" violates foreign key constraint \"library_app_bookdeta_author_id_194aa43a_fk_library_a\"\nDETAIL:  Key (author_id)=(00000000-0000-0000-0000-000000000002) is not present in table \"library_app_author\".\n",
     "output_type": "error",
     "traceback": [
      "\u001b[1;31m---------------------------------------------------------------------------\u001b[0m",
      "\u001b[1;31mForeignKeyViolation\u001b[0m                       Traceback (most recent call last)",
      "File \u001b[1;32m~\\django_project\\myenv\\Lib\\site-packages\\django\\db\\backends\\base\\base.py:299\u001b[0m, in \u001b[0;36mBaseDatabaseWrapper._commit\u001b[1;34m(self)\u001b[0m\n\u001b[0;32m    298\u001b[0m \u001b[38;5;28;01mwith\u001b[39;00m debug_transaction(\u001b[38;5;28mself\u001b[39m, \u001b[38;5;124m\"\u001b[39m\u001b[38;5;124mCOMMIT\u001b[39m\u001b[38;5;124m\"\u001b[39m), \u001b[38;5;28mself\u001b[39m\u001b[38;5;241m.\u001b[39mwrap_database_errors:\n\u001b[1;32m--> 299\u001b[0m     \u001b[38;5;28;01mreturn\u001b[39;00m \u001b[38;5;28;43mself\u001b[39;49m\u001b[38;5;241;43m.\u001b[39;49m\u001b[43mconnection\u001b[49m\u001b[38;5;241;43m.\u001b[39;49m\u001b[43mcommit\u001b[49m\u001b[43m(\u001b[49m\u001b[43m)\u001b[49m\n",
      "\u001b[1;31mForeignKeyViolation\u001b[0m: insert or update on table \"library_app_bookdetail_authors\" violates foreign key constraint \"library_app_bookdeta_author_id_194aa43a_fk_library_a\"\nDETAIL:  Key (author_id)=(00000000-0000-0000-0000-000000000002) is not present in table \"library_app_author\".\n",
      "\nThe above exception was the direct cause of the following exception:\n",
      "\u001b[1;31mIntegrityError\u001b[0m                            Traceback (most recent call last)",
      "Cell \u001b[1;32mIn[17], line 5\u001b[0m\n\u001b[0;32m      1\u001b[0m data_create \u001b[38;5;241m=\u001b[39m {\n\u001b[0;32m      2\u001b[0m     \u001b[38;5;124m\"\u001b[39m\u001b[38;5;124mname\u001b[39m\u001b[38;5;124m\"\u001b[39m: \u001b[38;5;124m\"\u001b[39m\u001b[38;5;124mExample Book\u001b[39m\u001b[38;5;124m\"\u001b[39m,\n\u001b[0;32m      3\u001b[0m     \u001b[38;5;124m\"\u001b[39m\u001b[38;5;124mauthors\u001b[39m\u001b[38;5;124m\"\u001b[39m: [\u001b[38;5;241m1\u001b[39m]  \u001b[38;5;66;03m# Assuming these are valid author IDs in your database\u001b[39;00m\n\u001b[0;32m      4\u001b[0m }\n\u001b[1;32m----> 5\u001b[0m response_create \u001b[38;5;241m=\u001b[39m \u001b[43mcreate_book_detail\u001b[49m\u001b[43m(\u001b[49m\u001b[43mdata_create\u001b[49m\u001b[43m)\u001b[49m\n\u001b[0;32m      6\u001b[0m \u001b[38;5;28;01mreturn\u001b[39;00m response_create\n",
      "Cell \u001b[1;32mIn[10], line 10\u001b[0m, in \u001b[0;36mcreate_book_detail\u001b[1;34m(data)\u001b[0m\n\u001b[0;32m      8\u001b[0m authors \u001b[38;5;241m=\u001b[39m data\u001b[38;5;241m.\u001b[39mget(\u001b[38;5;124m\"\u001b[39m\u001b[38;5;124mauthors\u001b[39m\u001b[38;5;124m\"\u001b[39m)\n\u001b[0;32m      9\u001b[0m book_detail \u001b[38;5;241m=\u001b[39m BookDetail\u001b[38;5;241m.\u001b[39mobjects\u001b[38;5;241m.\u001b[39mcreate(name\u001b[38;5;241m=\u001b[39mname)\n\u001b[1;32m---> 10\u001b[0m \u001b[43mbook_detail\u001b[49m\u001b[38;5;241;43m.\u001b[39;49m\u001b[43mauthors\u001b[49m\u001b[38;5;241;43m.\u001b[39;49m\u001b[43mset\u001b[49m\u001b[43m(\u001b[49m\u001b[43mauthors\u001b[49m\u001b[43m)\u001b[49m\n\u001b[0;32m     11\u001b[0m book_detail\u001b[38;5;241m.\u001b[39msave()\n\u001b[0;32m     12\u001b[0m serialized_data \u001b[38;5;241m=\u001b[39m BookDetailHandler\u001b[38;5;241m.\u001b[39m_convert_to_dict(book_detail)\n",
      "File \u001b[1;32m~\\django_project\\myenv\\Lib\\site-packages\\django\\db\\models\\fields\\related_descriptors.py:1276\u001b[0m, in \u001b[0;36mcreate_forward_many_to_many_manager.<locals>.ManyRelatedManager.set\u001b[1;34m(self, objs, clear, through_defaults)\u001b[0m\n\u001b[0;32m   1273\u001b[0m objs \u001b[38;5;241m=\u001b[39m \u001b[38;5;28mtuple\u001b[39m(objs)\n\u001b[0;32m   1275\u001b[0m db \u001b[38;5;241m=\u001b[39m router\u001b[38;5;241m.\u001b[39mdb_for_write(\u001b[38;5;28mself\u001b[39m\u001b[38;5;241m.\u001b[39mthrough, instance\u001b[38;5;241m=\u001b[39m\u001b[38;5;28mself\u001b[39m\u001b[38;5;241m.\u001b[39minstance)\n\u001b[1;32m-> 1276\u001b[0m \u001b[43m\u001b[49m\u001b[38;5;28;43;01mwith\u001b[39;49;00m\u001b[43m \u001b[49m\u001b[43mtransaction\u001b[49m\u001b[38;5;241;43m.\u001b[39;49m\u001b[43matomic\u001b[49m\u001b[43m(\u001b[49m\u001b[43musing\u001b[49m\u001b[38;5;241;43m=\u001b[39;49m\u001b[43mdb\u001b[49m\u001b[43m,\u001b[49m\u001b[43m \u001b[49m\u001b[43msavepoint\u001b[49m\u001b[38;5;241;43m=\u001b[39;49m\u001b[38;5;28;43;01mFalse\u001b[39;49;00m\u001b[43m)\u001b[49m\u001b[43m:\u001b[49m\n\u001b[0;32m   1277\u001b[0m \u001b[43m    \u001b[49m\u001b[38;5;28;43;01mif\u001b[39;49;00m\u001b[43m \u001b[49m\u001b[43mclear\u001b[49m\u001b[43m:\u001b[49m\n\u001b[0;32m   1278\u001b[0m \u001b[43m        \u001b[49m\u001b[38;5;28;43mself\u001b[39;49m\u001b[38;5;241;43m.\u001b[39;49m\u001b[43mclear\u001b[49m\u001b[43m(\u001b[49m\u001b[43m)\u001b[49m\n",
      "File \u001b[1;32m~\\django_project\\myenv\\Lib\\site-packages\\django\\db\\transaction.py:263\u001b[0m, in \u001b[0;36mAtomic.__exit__\u001b[1;34m(self, exc_type, exc_value, traceback)\u001b[0m\n\u001b[0;32m    260\u001b[0m \u001b[38;5;28;01melse\u001b[39;00m:\n\u001b[0;32m    261\u001b[0m     \u001b[38;5;66;03m# Commit transaction\u001b[39;00m\n\u001b[0;32m    262\u001b[0m     \u001b[38;5;28;01mtry\u001b[39;00m:\n\u001b[1;32m--> 263\u001b[0m         \u001b[43mconnection\u001b[49m\u001b[38;5;241;43m.\u001b[39;49m\u001b[43mcommit\u001b[49m\u001b[43m(\u001b[49m\u001b[43m)\u001b[49m\n\u001b[0;32m    264\u001b[0m     \u001b[38;5;28;01mexcept\u001b[39;00m DatabaseError:\n\u001b[0;32m    265\u001b[0m         \u001b[38;5;28;01mtry\u001b[39;00m:\n",
      "File \u001b[1;32m~\\django_project\\myenv\\Lib\\site-packages\\django\\utils\\asyncio.py:26\u001b[0m, in \u001b[0;36masync_unsafe.<locals>.decorator.<locals>.inner\u001b[1;34m(*args, **kwargs)\u001b[0m\n\u001b[0;32m     24\u001b[0m         \u001b[38;5;28;01mraise\u001b[39;00m SynchronousOnlyOperation(message)\n\u001b[0;32m     25\u001b[0m \u001b[38;5;66;03m# Pass onward.\u001b[39;00m\n\u001b[1;32m---> 26\u001b[0m \u001b[38;5;28;01mreturn\u001b[39;00m \u001b[43mfunc\u001b[49m\u001b[43m(\u001b[49m\u001b[38;5;241;43m*\u001b[39;49m\u001b[43margs\u001b[49m\u001b[43m,\u001b[49m\u001b[43m \u001b[49m\u001b[38;5;241;43m*\u001b[39;49m\u001b[38;5;241;43m*\u001b[39;49m\u001b[43mkwargs\u001b[49m\u001b[43m)\u001b[49m\n",
      "File \u001b[1;32m~\\django_project\\myenv\\Lib\\site-packages\\django\\db\\backends\\base\\base.py:323\u001b[0m, in \u001b[0;36mBaseDatabaseWrapper.commit\u001b[1;34m(self)\u001b[0m\n\u001b[0;32m    321\u001b[0m \u001b[38;5;28mself\u001b[39m\u001b[38;5;241m.\u001b[39mvalidate_thread_sharing()\n\u001b[0;32m    322\u001b[0m \u001b[38;5;28mself\u001b[39m\u001b[38;5;241m.\u001b[39mvalidate_no_atomic_block()\n\u001b[1;32m--> 323\u001b[0m \u001b[38;5;28;43mself\u001b[39;49m\u001b[38;5;241;43m.\u001b[39;49m\u001b[43m_commit\u001b[49m\u001b[43m(\u001b[49m\u001b[43m)\u001b[49m\n\u001b[0;32m    324\u001b[0m \u001b[38;5;66;03m# A successful commit means that the database connection works.\u001b[39;00m\n\u001b[0;32m    325\u001b[0m \u001b[38;5;28mself\u001b[39m\u001b[38;5;241m.\u001b[39merrors_occurred \u001b[38;5;241m=\u001b[39m \u001b[38;5;28;01mFalse\u001b[39;00m\n",
      "File \u001b[1;32m~\\django_project\\myenv\\Lib\\site-packages\\django\\db\\backends\\base\\base.py:298\u001b[0m, in \u001b[0;36mBaseDatabaseWrapper._commit\u001b[1;34m(self)\u001b[0m\n\u001b[0;32m    296\u001b[0m \u001b[38;5;28;01mdef\u001b[39;00m \u001b[38;5;21m_commit\u001b[39m(\u001b[38;5;28mself\u001b[39m):\n\u001b[0;32m    297\u001b[0m     \u001b[38;5;28;01mif\u001b[39;00m \u001b[38;5;28mself\u001b[39m\u001b[38;5;241m.\u001b[39mconnection \u001b[38;5;129;01mis\u001b[39;00m \u001b[38;5;129;01mnot\u001b[39;00m \u001b[38;5;28;01mNone\u001b[39;00m:\n\u001b[1;32m--> 298\u001b[0m \u001b[43m        \u001b[49m\u001b[38;5;28;43;01mwith\u001b[39;49;00m\u001b[43m \u001b[49m\u001b[43mdebug_transaction\u001b[49m\u001b[43m(\u001b[49m\u001b[38;5;28;43mself\u001b[39;49m\u001b[43m,\u001b[49m\u001b[43m \u001b[49m\u001b[38;5;124;43m\"\u001b[39;49m\u001b[38;5;124;43mCOMMIT\u001b[39;49m\u001b[38;5;124;43m\"\u001b[39;49m\u001b[43m)\u001b[49m\u001b[43m,\u001b[49m\u001b[43m \u001b[49m\u001b[38;5;28;43mself\u001b[39;49m\u001b[38;5;241;43m.\u001b[39;49m\u001b[43mwrap_database_errors\u001b[49m\u001b[43m:\u001b[49m\n\u001b[0;32m    299\u001b[0m \u001b[43m            \u001b[49m\u001b[38;5;28;43;01mreturn\u001b[39;49;00m\u001b[43m \u001b[49m\u001b[38;5;28;43mself\u001b[39;49m\u001b[38;5;241;43m.\u001b[39;49m\u001b[43mconnection\u001b[49m\u001b[38;5;241;43m.\u001b[39;49m\u001b[43mcommit\u001b[49m\u001b[43m(\u001b[49m\u001b[43m)\u001b[49m\n",
      "File \u001b[1;32m~\\django_project\\myenv\\Lib\\site-packages\\django\\db\\utils.py:91\u001b[0m, in \u001b[0;36mDatabaseErrorWrapper.__exit__\u001b[1;34m(self, exc_type, exc_value, traceback)\u001b[0m\n\u001b[0;32m     89\u001b[0m \u001b[38;5;28;01mif\u001b[39;00m dj_exc_type \u001b[38;5;129;01mnot\u001b[39;00m \u001b[38;5;129;01min\u001b[39;00m (DataError, IntegrityError):\n\u001b[0;32m     90\u001b[0m     \u001b[38;5;28mself\u001b[39m\u001b[38;5;241m.\u001b[39mwrapper\u001b[38;5;241m.\u001b[39merrors_occurred \u001b[38;5;241m=\u001b[39m \u001b[38;5;28;01mTrue\u001b[39;00m\n\u001b[1;32m---> 91\u001b[0m \u001b[38;5;28;01mraise\u001b[39;00m dj_exc_value\u001b[38;5;241m.\u001b[39mwith_traceback(traceback) \u001b[38;5;28;01mfrom\u001b[39;00m \u001b[38;5;21;01mexc_value\u001b[39;00m\n",
      "File \u001b[1;32m~\\django_project\\myenv\\Lib\\site-packages\\django\\db\\backends\\base\\base.py:299\u001b[0m, in \u001b[0;36mBaseDatabaseWrapper._commit\u001b[1;34m(self)\u001b[0m\n\u001b[0;32m    297\u001b[0m \u001b[38;5;28;01mif\u001b[39;00m \u001b[38;5;28mself\u001b[39m\u001b[38;5;241m.\u001b[39mconnection \u001b[38;5;129;01mis\u001b[39;00m \u001b[38;5;129;01mnot\u001b[39;00m \u001b[38;5;28;01mNone\u001b[39;00m:\n\u001b[0;32m    298\u001b[0m     \u001b[38;5;28;01mwith\u001b[39;00m debug_transaction(\u001b[38;5;28mself\u001b[39m, \u001b[38;5;124m\"\u001b[39m\u001b[38;5;124mCOMMIT\u001b[39m\u001b[38;5;124m\"\u001b[39m), \u001b[38;5;28mself\u001b[39m\u001b[38;5;241m.\u001b[39mwrap_database_errors:\n\u001b[1;32m--> 299\u001b[0m         \u001b[38;5;28;01mreturn\u001b[39;00m \u001b[38;5;28;43mself\u001b[39;49m\u001b[38;5;241;43m.\u001b[39;49m\u001b[43mconnection\u001b[49m\u001b[38;5;241;43m.\u001b[39;49m\u001b[43mcommit\u001b[49m\u001b[43m(\u001b[49m\u001b[43m)\u001b[49m\n",
      "\u001b[1;31mIntegrityError\u001b[0m: insert or update on table \"library_app_bookdetail_authors\" violates foreign key constraint \"library_app_bookdeta_author_id_194aa43a_fk_library_a\"\nDETAIL:  Key (author_id)=(00000000-0000-0000-0000-000000000002) is not present in table \"library_app_author\".\n"
     ]
    }
   ],
   "source": [
    "data_create = {\n",
    "    \"name\": \"Example Book\",\n",
    "    \"authors\": [1]  # Assuming these are valid author IDs in your database\n",
    "}\n",
    "response_create = create_book_detail(data_create)\n",
    "return response_create"
   ]
  },
  {
   "cell_type": "code",
   "execution_count": 30,
   "id": "adc1aa19",
   "metadata": {},
   "outputs": [],
   "source": [
    "def create_book_detail(data):\n",
    "    \n",
    "        name = data.get(\"name\")\n",
    "        authors = data.get(\"authors\")\n",
    "        book_detail = BookDetail.objects.create(name=name)\n",
    "        book_detail.authors.set(authors)\n",
    "        book_detail.save()\n",
    "        serialized_data = BookDetailHandler._convert_to_dict(book_detail)\n",
    "        return Response(\n",
    "            data={\n",
    "                \"message\": \"New book detail record created\",\n",
    "                \"data\": serialized_data\n",
    "            },\n",
    "            status=status.HTTP_201_CREATED\n",
    "        )"
   ]
  },
  {
   "cell_type": "code",
   "execution_count": 32,
   "id": "274638fe",
   "metadata": {},
   "outputs": [
    {
     "ename": "IntegrityError",
     "evalue": "insert or update on table \"library_app_bookdetail_authors\" violates foreign key constraint \"library_app_bookdeta_author_id_194aa43a_fk_library_a\"\nDETAIL:  Key (author_id)=(00000000-0000-0000-0000-000000000002) is not present in table \"library_app_author\".\n",
     "output_type": "error",
     "traceback": [
      "\u001b[1;31m---------------------------------------------------------------------------\u001b[0m",
      "\u001b[1;31mForeignKeyViolation\u001b[0m                       Traceback (most recent call last)",
      "File \u001b[1;32m~\\django_project\\myenv\\Lib\\site-packages\\django\\db\\backends\\base\\base.py:299\u001b[0m, in \u001b[0;36mBaseDatabaseWrapper._commit\u001b[1;34m(self)\u001b[0m\n\u001b[0;32m    298\u001b[0m \u001b[38;5;28;01mwith\u001b[39;00m debug_transaction(\u001b[38;5;28mself\u001b[39m, \u001b[38;5;124m\"\u001b[39m\u001b[38;5;124mCOMMIT\u001b[39m\u001b[38;5;124m\"\u001b[39m), \u001b[38;5;28mself\u001b[39m\u001b[38;5;241m.\u001b[39mwrap_database_errors:\n\u001b[1;32m--> 299\u001b[0m     \u001b[38;5;28;01mreturn\u001b[39;00m \u001b[38;5;28mself\u001b[39m\u001b[38;5;241m.\u001b[39mconnection\u001b[38;5;241m.\u001b[39mcommit()\n",
      "\u001b[1;31mForeignKeyViolation\u001b[0m: insert or update on table \"library_app_bookdetail_authors\" violates foreign key constraint \"library_app_bookdeta_author_id_194aa43a_fk_library_a\"\nDETAIL:  Key (author_id)=(00000000-0000-0000-0000-000000000002) is not present in table \"library_app_author\".\n",
      "\nThe above exception was the direct cause of the following exception:\n",
      "\u001b[1;31mIntegrityError\u001b[0m                            Traceback (most recent call last)",
      "Cell \u001b[1;32mIn[32], line 5\u001b[0m\n\u001b[0;32m      1\u001b[0m data \u001b[38;5;241m=\u001b[39m {\n\u001b[0;32m      2\u001b[0m         \u001b[38;5;124m\"\u001b[39m\u001b[38;5;124mname\u001b[39m\u001b[38;5;124m\"\u001b[39m: \u001b[38;5;124m\"\u001b[39m\u001b[38;5;124mUpdated Book Name\u001b[39m\u001b[38;5;124m\"\u001b[39m,\n\u001b[0;32m      3\u001b[0m         \u001b[38;5;124m\"\u001b[39m\u001b[38;5;124mauthors\u001b[39m\u001b[38;5;124m\"\u001b[39m: [\u001b[38;5;241m2\u001b[39m]\n\u001b[0;32m      4\u001b[0m         }\n\u001b[1;32m----> 5\u001b[0m \u001b[43mcreate_book_detail\u001b[49m\u001b[43m(\u001b[49m\u001b[43mdata\u001b[49m\u001b[43m)\u001b[49m\n",
      "Cell \u001b[1;32mIn[30], line 6\u001b[0m, in \u001b[0;36mcreate_book_detail\u001b[1;34m(data)\u001b[0m\n\u001b[0;32m      4\u001b[0m authors \u001b[38;5;241m=\u001b[39m data\u001b[38;5;241m.\u001b[39mget(\u001b[38;5;124m\"\u001b[39m\u001b[38;5;124mauthors\u001b[39m\u001b[38;5;124m\"\u001b[39m)\n\u001b[0;32m      5\u001b[0m book_detail \u001b[38;5;241m=\u001b[39m BookDetail\u001b[38;5;241m.\u001b[39mobjects\u001b[38;5;241m.\u001b[39mcreate(name\u001b[38;5;241m=\u001b[39mname)\n\u001b[1;32m----> 6\u001b[0m \u001b[43mbook_detail\u001b[49m\u001b[38;5;241;43m.\u001b[39;49m\u001b[43mauthors\u001b[49m\u001b[38;5;241;43m.\u001b[39;49m\u001b[43mset\u001b[49m\u001b[43m(\u001b[49m\u001b[43mauthors\u001b[49m\u001b[43m)\u001b[49m\n\u001b[0;32m      7\u001b[0m book_detail\u001b[38;5;241m.\u001b[39msave()\n\u001b[0;32m      8\u001b[0m serialized_data \u001b[38;5;241m=\u001b[39m BookDetailHandler\u001b[38;5;241m.\u001b[39m_convert_to_dict(book_detail)\n",
      "File \u001b[1;32m~\\django_project\\myenv\\Lib\\site-packages\\django\\db\\models\\fields\\related_descriptors.py:1276\u001b[0m, in \u001b[0;36mcreate_forward_many_to_many_manager.<locals>.ManyRelatedManager.set\u001b[1;34m(self, objs, clear, through_defaults)\u001b[0m\n\u001b[0;32m   1273\u001b[0m objs \u001b[38;5;241m=\u001b[39m \u001b[38;5;28mtuple\u001b[39m(objs)\n\u001b[0;32m   1275\u001b[0m db \u001b[38;5;241m=\u001b[39m router\u001b[38;5;241m.\u001b[39mdb_for_write(\u001b[38;5;28mself\u001b[39m\u001b[38;5;241m.\u001b[39mthrough, instance\u001b[38;5;241m=\u001b[39m\u001b[38;5;28mself\u001b[39m\u001b[38;5;241m.\u001b[39minstance)\n\u001b[1;32m-> 1276\u001b[0m \u001b[43m\u001b[49m\u001b[38;5;28;43;01mwith\u001b[39;49;00m\u001b[43m \u001b[49m\u001b[43mtransaction\u001b[49m\u001b[38;5;241;43m.\u001b[39;49m\u001b[43matomic\u001b[49m\u001b[43m(\u001b[49m\u001b[43musing\u001b[49m\u001b[38;5;241;43m=\u001b[39;49m\u001b[43mdb\u001b[49m\u001b[43m,\u001b[49m\u001b[43m \u001b[49m\u001b[43msavepoint\u001b[49m\u001b[38;5;241;43m=\u001b[39;49m\u001b[38;5;28;43;01mFalse\u001b[39;49;00m\u001b[43m)\u001b[49m\u001b[43m:\u001b[49m\n\u001b[0;32m   1277\u001b[0m \u001b[43m    \u001b[49m\u001b[38;5;28;43;01mif\u001b[39;49;00m\u001b[43m \u001b[49m\u001b[43mclear\u001b[49m\u001b[43m:\u001b[49m\n\u001b[0;32m   1278\u001b[0m \u001b[43m        \u001b[49m\u001b[38;5;28;43mself\u001b[39;49m\u001b[38;5;241;43m.\u001b[39;49m\u001b[43mclear\u001b[49m\u001b[43m(\u001b[49m\u001b[43m)\u001b[49m\n",
      "File \u001b[1;32m~\\django_project\\myenv\\Lib\\site-packages\\django\\db\\transaction.py:263\u001b[0m, in \u001b[0;36mAtomic.__exit__\u001b[1;34m(self, exc_type, exc_value, traceback)\u001b[0m\n\u001b[0;32m    260\u001b[0m \u001b[38;5;28;01melse\u001b[39;00m:\n\u001b[0;32m    261\u001b[0m     \u001b[38;5;66;03m# Commit transaction\u001b[39;00m\n\u001b[0;32m    262\u001b[0m     \u001b[38;5;28;01mtry\u001b[39;00m:\n\u001b[1;32m--> 263\u001b[0m         \u001b[43mconnection\u001b[49m\u001b[38;5;241;43m.\u001b[39;49m\u001b[43mcommit\u001b[49m\u001b[43m(\u001b[49m\u001b[43m)\u001b[49m\n\u001b[0;32m    264\u001b[0m     \u001b[38;5;28;01mexcept\u001b[39;00m DatabaseError:\n\u001b[0;32m    265\u001b[0m         \u001b[38;5;28;01mtry\u001b[39;00m:\n",
      "File \u001b[1;32m~\\django_project\\myenv\\Lib\\site-packages\\django\\utils\\asyncio.py:26\u001b[0m, in \u001b[0;36masync_unsafe.<locals>.decorator.<locals>.inner\u001b[1;34m(*args, **kwargs)\u001b[0m\n\u001b[0;32m     24\u001b[0m         \u001b[38;5;28;01mraise\u001b[39;00m SynchronousOnlyOperation(message)\n\u001b[0;32m     25\u001b[0m \u001b[38;5;66;03m# Pass onward.\u001b[39;00m\n\u001b[1;32m---> 26\u001b[0m \u001b[38;5;28;01mreturn\u001b[39;00m \u001b[43mfunc\u001b[49m\u001b[43m(\u001b[49m\u001b[38;5;241;43m*\u001b[39;49m\u001b[43margs\u001b[49m\u001b[43m,\u001b[49m\u001b[43m \u001b[49m\u001b[38;5;241;43m*\u001b[39;49m\u001b[38;5;241;43m*\u001b[39;49m\u001b[43mkwargs\u001b[49m\u001b[43m)\u001b[49m\n",
      "File \u001b[1;32m~\\django_project\\myenv\\Lib\\site-packages\\django\\db\\backends\\base\\base.py:323\u001b[0m, in \u001b[0;36mBaseDatabaseWrapper.commit\u001b[1;34m(self)\u001b[0m\n\u001b[0;32m    321\u001b[0m \u001b[38;5;28mself\u001b[39m\u001b[38;5;241m.\u001b[39mvalidate_thread_sharing()\n\u001b[0;32m    322\u001b[0m \u001b[38;5;28mself\u001b[39m\u001b[38;5;241m.\u001b[39mvalidate_no_atomic_block()\n\u001b[1;32m--> 323\u001b[0m \u001b[38;5;28;43mself\u001b[39;49m\u001b[38;5;241;43m.\u001b[39;49m\u001b[43m_commit\u001b[49m\u001b[43m(\u001b[49m\u001b[43m)\u001b[49m\n\u001b[0;32m    324\u001b[0m \u001b[38;5;66;03m# A successful commit means that the database connection works.\u001b[39;00m\n\u001b[0;32m    325\u001b[0m \u001b[38;5;28mself\u001b[39m\u001b[38;5;241m.\u001b[39merrors_occurred \u001b[38;5;241m=\u001b[39m \u001b[38;5;28;01mFalse\u001b[39;00m\n",
      "File \u001b[1;32m~\\django_project\\myenv\\Lib\\site-packages\\django\\db\\backends\\base\\base.py:298\u001b[0m, in \u001b[0;36mBaseDatabaseWrapper._commit\u001b[1;34m(self)\u001b[0m\n\u001b[0;32m    296\u001b[0m \u001b[38;5;28;01mdef\u001b[39;00m \u001b[38;5;21m_commit\u001b[39m(\u001b[38;5;28mself\u001b[39m):\n\u001b[0;32m    297\u001b[0m     \u001b[38;5;28;01mif\u001b[39;00m \u001b[38;5;28mself\u001b[39m\u001b[38;5;241m.\u001b[39mconnection \u001b[38;5;129;01mis\u001b[39;00m \u001b[38;5;129;01mnot\u001b[39;00m \u001b[38;5;28;01mNone\u001b[39;00m:\n\u001b[1;32m--> 298\u001b[0m \u001b[43m        \u001b[49m\u001b[38;5;28;43;01mwith\u001b[39;49;00m\u001b[43m \u001b[49m\u001b[43mdebug_transaction\u001b[49m\u001b[43m(\u001b[49m\u001b[38;5;28;43mself\u001b[39;49m\u001b[43m,\u001b[49m\u001b[43m \u001b[49m\u001b[38;5;124;43m\"\u001b[39;49m\u001b[38;5;124;43mCOMMIT\u001b[39;49m\u001b[38;5;124;43m\"\u001b[39;49m\u001b[43m)\u001b[49m\u001b[43m,\u001b[49m\u001b[43m \u001b[49m\u001b[38;5;28;43mself\u001b[39;49m\u001b[38;5;241;43m.\u001b[39;49m\u001b[43mwrap_database_errors\u001b[49m\u001b[43m:\u001b[49m\n\u001b[0;32m    299\u001b[0m \u001b[43m            \u001b[49m\u001b[38;5;28;43;01mreturn\u001b[39;49;00m\u001b[43m \u001b[49m\u001b[38;5;28;43mself\u001b[39;49m\u001b[38;5;241;43m.\u001b[39;49m\u001b[43mconnection\u001b[49m\u001b[38;5;241;43m.\u001b[39;49m\u001b[43mcommit\u001b[49m\u001b[43m(\u001b[49m\u001b[43m)\u001b[49m\n",
      "File \u001b[1;32m~\\django_project\\myenv\\Lib\\site-packages\\django\\db\\utils.py:91\u001b[0m, in \u001b[0;36mDatabaseErrorWrapper.__exit__\u001b[1;34m(self, exc_type, exc_value, traceback)\u001b[0m\n\u001b[0;32m     89\u001b[0m \u001b[38;5;28;01mif\u001b[39;00m dj_exc_type \u001b[38;5;129;01mnot\u001b[39;00m \u001b[38;5;129;01min\u001b[39;00m (DataError, IntegrityError):\n\u001b[0;32m     90\u001b[0m     \u001b[38;5;28mself\u001b[39m\u001b[38;5;241m.\u001b[39mwrapper\u001b[38;5;241m.\u001b[39merrors_occurred \u001b[38;5;241m=\u001b[39m \u001b[38;5;28;01mTrue\u001b[39;00m\n\u001b[1;32m---> 91\u001b[0m \u001b[38;5;28;01mraise\u001b[39;00m dj_exc_value\u001b[38;5;241m.\u001b[39mwith_traceback(traceback) \u001b[38;5;28;01mfrom\u001b[39;00m \u001b[38;5;21;01mexc_value\u001b[39;00m\n",
      "File \u001b[1;32m~\\django_project\\myenv\\Lib\\site-packages\\django\\db\\backends\\base\\base.py:299\u001b[0m, in \u001b[0;36mBaseDatabaseWrapper._commit\u001b[1;34m(self)\u001b[0m\n\u001b[0;32m    297\u001b[0m \u001b[38;5;28;01mif\u001b[39;00m \u001b[38;5;28mself\u001b[39m\u001b[38;5;241m.\u001b[39mconnection \u001b[38;5;129;01mis\u001b[39;00m \u001b[38;5;129;01mnot\u001b[39;00m \u001b[38;5;28;01mNone\u001b[39;00m:\n\u001b[0;32m    298\u001b[0m     \u001b[38;5;28;01mwith\u001b[39;00m debug_transaction(\u001b[38;5;28mself\u001b[39m, \u001b[38;5;124m\"\u001b[39m\u001b[38;5;124mCOMMIT\u001b[39m\u001b[38;5;124m\"\u001b[39m), \u001b[38;5;28mself\u001b[39m\u001b[38;5;241m.\u001b[39mwrap_database_errors:\n\u001b[1;32m--> 299\u001b[0m         \u001b[38;5;28;01mreturn\u001b[39;00m \u001b[38;5;28mself\u001b[39m\u001b[38;5;241m.\u001b[39mconnection\u001b[38;5;241m.\u001b[39mcommit()\n",
      "\u001b[1;31mIntegrityError\u001b[0m: insert or update on table \"library_app_bookdetail_authors\" violates foreign key constraint \"library_app_bookdeta_author_id_194aa43a_fk_library_a\"\nDETAIL:  Key (author_id)=(00000000-0000-0000-0000-000000000002) is not present in table \"library_app_author\".\n"
     ]
    }
   ],
   "source": [
    "data = {\n",
    "        \"name\": \"Updated Book Name\",\n",
    "        \"authors\": [2]\n",
    "        }\n",
    "create_book_detail(data)"
   ]
  },
  {
   "cell_type": "code",
   "execution_count": 89,
   "id": "d276ba18",
   "metadata": {},
   "outputs": [],
   "source": [
    "def retrieve_book_detail(book_details_uid):\n",
    "    book_detail = get_object_or_404(BookDetail, uid=book_details_uid)\n",
    "    serialized_data = _convert_to_dict(book_detail)  # Note: Use _convert_to_dict directly since it's a local function\n",
    "    return Response(\n",
    "        data={\n",
    "            \"message\": \"Book detail record retrieved\",\n",
    "            \"data\": serialized_data\n",
    "        },\n",
    "        status=status.HTTP_200_OK\n",
    "    )\n",
    "\n",
    "def _convert_to_dict(book_detail):\n",
    "    return {\n",
    "        \"id\": book_detail.uid,\n",
    "        \"name\": book_detail.name,\n",
    "        \"authors\": list(book_detail.authors.values_list('uid', flat=True))\n",
    "    }"
   ]
  },
  {
   "cell_type": "code",
   "execution_count": 96,
   "id": "0ef326c6",
   "metadata": {},
   "outputs": [
    {
     "data": {
      "text/plain": [
       "<Response status_code=200, \"text/html; charset=utf-8\">"
      ]
     },
     "execution_count": 96,
     "metadata": {},
     "output_type": "execute_result"
    }
   ],
   "source": [
    "retrieve_book_detail(book_details_uid = \"e17ea690-2bea-4445-82f4-94d3e8c0e501\")"
   ]
  },
  {
   "cell_type": "code",
   "execution_count": 123,
   "id": "a3958ae5",
   "metadata": {},
   "outputs": [],
   "source": [
    "class Book_Detail_Handler:\n",
    "    \n",
    "    @staticmethod\n",
    "    def create_book_details(data):\n",
    "        try:\n",
    "            # Validate data\n",
    "            if not data.get('name') or not data.get('authors'):\n",
    "                return {\"message\": \"data is missing\"}\n",
    "            \n",
    "            # Create the BookDetail\n",
    "            book_details = BookDetail.objects.create(name=data['name'])\n",
    "            \n",
    "            # Create or get Author instances and add to the book\n",
    "            for author_name in data['authors']:\n",
    "                author, created = Author.objects.get_or_create(name=author_name)\n",
    "                book_details.authors.add(author)\n",
    "            return {\"message\": \"Book details saved successfully\"}\n",
    "        except Exception as e:\n",
    "            return {\"message\": str(e)}\n",
    "        \n",
    "    @staticmethod\n",
    "    def retrieve_book_detail(book_detail_id):\n",
    "        book_detail = get_object_or_404(BookDetail, id=book_detail_id)\n",
    "        return Response(BookDetailHandler._convert_to_dict(book_detail))\n",
    "    \n",
    "    @staticmethod\n",
    "    def _convert_to_dict(book_detail):\n",
    "        return {\n",
    "            \"id\": book_detail.id,\n",
    "            \"name\": book_detail.name,\n",
    "            \"authors\": list(book_detail.authors.values_list('id', flat=True))\n",
    "        }\n",
    "\n",
    "        "
   ]
  },
  {
   "cell_type": "code",
   "execution_count": 101,
   "id": "319170ca",
   "metadata": {},
   "outputs": [
    {
     "name": "stdout",
     "output_type": "stream",
     "text": [
      "{'message': 'Book details saved successfully'}\n"
     ]
    }
   ],
   "source": [
    "data = {\n",
    "    \"name\": \"Write me a love story\",\n",
    "    \"authors\": [\"Ravinder Singh\"]\n",
    "}\n",
    "response = Book_Detail_Handler.create_book_details(data)\n",
    "print(response)"
   ]
  },
  {
   "cell_type": "code",
   "execution_count": 121,
   "id": "b31b1a1b",
   "metadata": {},
   "outputs": [
    {
     "name": "stdout",
     "output_type": "stream",
     "text": [
      "e17ea690-2bea-4445-82f4-94d3e8c0e501\n",
      "5b7d1db1-a8e1-4f32-b857-55f902f72415\n",
      "56f5d85c-eb1b-46ef-95c8-687bee8aec22\n",
      "471caece-34cb-4553-af01-dd841bba6516\n",
      "6deb3f62-ab19-4a4f-924f-31a391e1ffe5\n",
      "0bf9df3c-9037-4b30-ad1e-4c003cc567e1\n"
     ]
    }
   ],
   "source": [
    "obj=BookDetail.objects.all()\n",
    "for a in obj:\n",
    "    print(a.uid)"
   ]
  },
  {
   "cell_type": "code",
   "execution_count": 124,
   "id": "57f59f5a",
   "metadata": {},
   "outputs": [
    {
     "ename": "TypeError",
     "evalue": "retrieve_book_detail() got an unexpected keyword argument 'book_detail_uid'",
     "output_type": "error",
     "traceback": [
      "\u001b[1;31m---------------------------------------------------------------------------\u001b[0m",
      "\u001b[1;31mTypeError\u001b[0m                                 Traceback (most recent call last)",
      "Cell \u001b[1;32mIn[124], line 1\u001b[0m\n\u001b[1;32m----> 1\u001b[0m \u001b[43mretrieve_book_detail\u001b[49m\u001b[43m(\u001b[49m\u001b[43mbook_detail_uid\u001b[49m\u001b[38;5;241;43m=\u001b[39;49m\u001b[38;5;124;43m'\u001b[39;49m\u001b[38;5;124;43m471caece-34cb-4553-af01-dd841bba6516\u001b[39;49m\u001b[38;5;124;43m'\u001b[39;49m\u001b[43m)\u001b[49m\n",
      "\u001b[1;31mTypeError\u001b[0m: retrieve_book_detail() got an unexpected keyword argument 'book_detail_uid'"
     ]
    }
   ],
   "source": [
    "retrieve_book_detail(book_detail_uid='471caece-34cb-4553-af01-dd841bba6516')"
   ]
  },
  {
   "cell_type": "code",
   "execution_count": null,
   "id": "7c3b9442",
   "metadata": {},
   "outputs": [],
   "source": []
  },
  {
   "cell_type": "code",
   "execution_count": null,
   "id": "d952a623",
   "metadata": {},
   "outputs": [],
   "source": []
  }
 ],
 "metadata": {
  "kernelspec": {
   "display_name": "Django Shell-Plus",
   "language": "python",
   "name": "django_extensions"
  },
  "language_info": {
   "codemirror_mode": {
    "name": "ipython",
    "version": 3
   },
   "file_extension": ".py",
   "mimetype": "text/x-python",
   "name": "python",
   "nbconvert_exporter": "python",
   "pygments_lexer": "ipython3",
   "version": "3.11.7"
  }
 },
 "nbformat": 4,
 "nbformat_minor": 5
}
