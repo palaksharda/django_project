{
 "cells": [
  {
   "cell_type": "code",
   "execution_count": 1,
   "id": "f798d8f2",
   "metadata": {},
   "outputs": [],
   "source": [
    "from pprint import pprint \n",
    "import os\n",
    "import django\n",
    "\n",
    "os.environ.setdefault('DJANGO_SETTINGS_MODULE', 'rest.settings')\n",
    "os.environ[\"DJANGO_ALLOW_ASYNC_UNSAFE\"] = \"true\"\n",
    "\n",
    "django.setup()"
   ]
  },
  {
   "cell_type": "code",
   "execution_count": 2,
   "id": "b55b8c45",
   "metadata": {},
   "outputs": [],
   "source": [
    "from library_app.models import *  "
   ]
  },
  {
   "cell_type": "code",
   "execution_count": 3,
   "id": "e5b06b58",
   "metadata": {},
   "outputs": [],
   "source": [
    "from rest_framework.serializers import ModelSerializer"
   ]
  },
  {
   "cell_type": "code",
   "execution_count": 10,
   "id": "ad1ae545",
   "metadata": {},
   "outputs": [],
   "source": [
    "class AuthorSerializer(ModelSerializer):\n",
    "\n",
    "        class Meta:\n",
    "            model = Author\n",
    "            #exclude = ('id',)\n",
    "            fields = (\"uid\",\"name\")\n",
    "            "
   ]
  },
  {
   "cell_type": "code",
   "execution_count": 11,
   "id": "a75f2721",
   "metadata": {},
   "outputs": [
    {
     "name": "stdout",
     "output_type": "stream",
     "text": [
      "author_instance : <QuerySet [<Author: Jane Austen>, <Author: JK Rowling>, <Author: Dan Brown>, <Author: Helen Keller>, <Author: Ravinder Singh>]>\n",
      "\n",
      "\n",
      "type(serialized_data) = <class 'rest_framework.utils.serializer_helpers.ReturnList'>\n"
     ]
    },
    {
     "data": {
      "text/plain": [
       "[{'uid': '8d74f36a-8a38-45a0-b4cf-d1baf96210af', 'name': 'Jane Austen'}, {'uid': '45bf5666-3a35-49e6-95e5-dccfa6b4333c', 'name': 'JK Rowling'}, {'uid': '19aee54b-e1ef-4c65-bfb4-3cb2a837179f', 'name': 'Dan Brown'}, {'uid': 'bd149751-fb18-4714-a2f0-d37fa33a8b67', 'name': 'Helen Keller'}, {'uid': 'd7087134-45f8-4160-ae2f-7b8cd17df233', 'name': 'Ravinder Singh'}]"
      ]
     },
     "execution_count": 11,
     "metadata": {},
     "output_type": "execute_result"
    }
   ],
   "source": [
    "author_instance = Author.objects.all()\n",
    "print(\"author_instance :\",author_instance)\n",
    "\n",
    "\n",
    "author_serializer = AuthorSerializer(instance=author_instance, many=True)\n",
    "serialized_data = author_serializer.data\n",
    "print(\"\\n\\ntype(serialized_data) =\",type(serialized_data))\n",
    "serialized_data\n"
   ]
  },
  {
   "cell_type": "code",
   "execution_count": 12,
   "id": "05b14dd4",
   "metadata": {},
   "outputs": [],
   "source": [
    "from rest_framework.serializers import DateTimeField\n",
    "class BookDetailSerializer(ModelSerializer):\n",
    "    \n",
    "    created_at = DateTimeField(format=\"%Y-%m-%d at %H:%M:%S\")\n",
    "    updated_at = DateTimeField(format=\"%Y-%m-%d at %H:%M:%S\")\n",
    "    authors = AuthorSerializer(many=True)\n",
    "\n",
    "    class Meta:\n",
    "        model = BookDetail\n",
    "        fields = (\"__all__\")\n",
    "            "
   ]
  },
  {
   "cell_type": "code",
   "execution_count": 13,
   "id": "3d8e7938",
   "metadata": {},
   "outputs": [
    {
     "data": {
      "text/plain": [
       "[{'uid': 'e17ea690-2bea-4445-82f4-94d3e8c0e501', 'created_at': '2024-06-14 at 09:42:04', 'updated_at': '2024-06-14 at 09:42:04', 'authors': [{'uid': '8d74f36a-8a38-45a0-b4cf-d1baf96210af', 'name': 'Jane Austen'}], 'name': 'Pride and Prejudice'}, {'uid': '5b7d1db1-a8e1-4f32-b857-55f902f72415', 'created_at': '2024-06-14 at 09:43:07', 'updated_at': '2024-06-14 at 09:43:07', 'authors': [{'uid': '45bf5666-3a35-49e6-95e5-dccfa6b4333c', 'name': 'JK Rowling'}], 'name': \"Harry Potter and the philosopher's stone\"}, {'uid': '471caece-34cb-4553-af01-dd841bba6516', 'created_at': '2024-06-14 at 09:52:21', 'updated_at': '2024-06-14 at 09:52:21', 'authors': [{'uid': 'bd149751-fb18-4714-a2f0-d37fa33a8b67', 'name': 'Helen Keller'}], 'name': 'The story of my life'}, {'uid': '6deb3f62-ab19-4a4f-924f-31a391e1ffe5', 'created_at': '2024-06-14 at 11:42:28', 'updated_at': '2024-06-14 at 11:42:28', 'authors': [{'uid': 'd7087134-45f8-4160-ae2f-7b8cd17df233', 'name': 'Ravinder Singh'}], 'name': 'Write me a love story'}, {'uid': '0bf9df3c-9037-4b30-ad1e-4c003cc567e1', 'created_at': '2024-06-14 at 12:25:34', 'updated_at': '2024-06-14 at 12:25:34', 'authors': [{'uid': 'd7087134-45f8-4160-ae2f-7b8cd17df233', 'name': 'Ravinder Singh'}], 'name': 'Write me a love story'}, {'uid': '56f5d85c-eb1b-46ef-95c8-687bee8aec22', 'created_at': '2024-06-14 at 09:49:53', 'updated_at': '2024-06-15 at 12:18:34', 'authors': [{'uid': '19aee54b-e1ef-4c65-bfb4-3cb2a837179f', 'name': 'Dan Brown'}], 'name': 'The Da Vinci Code'}]"
      ]
     },
     "execution_count": 13,
     "metadata": {},
     "output_type": "execute_result"
    }
   ],
   "source": [
    "book_instance = BookDetail.objects.all()\n",
    "#print(\"author_instance :\",author_instance)\n",
    "\n",
    "book_detail_serializer = BookDetailSerializer(instance=book_instance, many=True)\n",
    "book_detail_serializer.data\n",
    "#serialized_data = author_serializer.data\n",
    "#print(\"\\n\\ntype(serialized_data) =\",type(serialized_data))\n",
    "#serialized_data\n"
   ]
  },
  {
   "cell_type": "code",
   "execution_count": 85,
   "id": "72fde4fb",
   "metadata": {},
   "outputs": [],
   "source": [
    "from rest_framework.serializers import DateTimeField\n",
    "class BookRecordSerializer(ModelSerializer):\n",
    "    \n",
    "    created_at = DateTimeField(format=\"%Y-%m-%d at %H:%M:%S\")\n",
    "\n",
    "    class Meta:\n",
    "        model = BookRecord\n",
    "        fields = (\"__all__\")"
   ]
  },
  {
   "cell_type": "code",
   "execution_count": 86,
   "id": "9a08108b",
   "metadata": {},
   "outputs": [
    {
     "data": {
      "text/plain": [
       "[{'uid': '7e1aa770-3adb-49ea-b2f3-17a79fbfdf80', 'created_at': '2024-06-14 at 09:47:27', 'updated_at': '2024-06-14T09:47:27.515983Z', 'edition': '2019', 'category': 'Fiction', 'count': 50, 'price': '470', 'available': True, 'book': UUID('e17ea690-2bea-4445-82f4-94d3e8c0e501')}, {'uid': 'c951dad3-3222-4ac2-956f-ba93f94306f3', 'created_at': '2024-06-14 at 09:48:39', 'updated_at': '2024-06-14T09:48:39.631937Z', 'edition': '2015', 'category': 'Fiction', 'count': 142, 'price': '350', 'available': True, 'book': UUID('5b7d1db1-a8e1-4f32-b857-55f902f72415')}, {'uid': '03197592-ec4e-4914-ba08-03c69190e8f3', 'created_at': '2024-06-14 at 09:50:52', 'updated_at': '2024-06-14T09:50:52.486615Z', 'edition': '2003', 'category': 'Mystery', 'count': 10, 'price': '295', 'available': True, 'book': UUID('56f5d85c-eb1b-46ef-95c8-687bee8aec22')}, {'uid': '3b73b44b-21fe-4e69-b7da-f1ea96795ebd', 'created_at': '2024-06-14 at 09:53:26', 'updated_at': '2024-06-14T09:53:26.208732Z', 'edition': '1903', 'category': 'Biography', 'count': 42, 'price': '199', 'available': True, 'book': UUID('471caece-34cb-4553-af01-dd841bba6516')}]"
      ]
     },
     "execution_count": 86,
     "metadata": {},
     "output_type": "execute_result"
    }
   ],
   "source": [
    "book_record_instance = BookRecord.objects.all()\n",
    "\n",
    "book_record_serializer = BookRecordSerializer(instance = book_record_instance, many=True)\n",
    "book_record_serializer.data"
   ]
  },
  {
   "cell_type": "code",
   "execution_count": 14,
   "id": "b10830f1",
   "metadata": {},
   "outputs": [],
   "source": [
    "from rest_framework.serializers import DateTimeField\n",
    "class BookRecordSerializer(ModelSerializer):\n",
    "    \n",
    "    book = BookDetailSerializer()\n",
    "    created_at = DateTimeField(format=\"%Y-%m-%d at %H:%M:%S\")\n",
    "\n",
    "    class Meta:\n",
    "        model = BookRecord\n",
    "        fields = (\"__all__\")"
   ]
  },
  {
   "cell_type": "code",
   "execution_count": 15,
   "id": "3b6897dd",
   "metadata": {},
   "outputs": [
    {
     "data": {
      "text/plain": [
       "[{'uid': '7e1aa770-3adb-49ea-b2f3-17a79fbfdf80', 'book': {'uid': 'e17ea690-2bea-4445-82f4-94d3e8c0e501', 'created_at': '2024-06-14 at 09:42:04', 'updated_at': '2024-06-14 at 09:42:04', 'authors': [{'uid': '8d74f36a-8a38-45a0-b4cf-d1baf96210af', 'name': 'Jane Austen'}], 'name': 'Pride and Prejudice'}, 'created_at': '2024-06-14 at 09:47:27', 'updated_at': '2024-06-14T09:47:27.515983Z', 'edition': '2019', 'category': 'Fiction', 'count': 50, 'price': '470', 'available': True}, {'uid': 'c951dad3-3222-4ac2-956f-ba93f94306f3', 'book': {'uid': '5b7d1db1-a8e1-4f32-b857-55f902f72415', 'created_at': '2024-06-14 at 09:43:07', 'updated_at': '2024-06-14 at 09:43:07', 'authors': [{'uid': '45bf5666-3a35-49e6-95e5-dccfa6b4333c', 'name': 'JK Rowling'}], 'name': \"Harry Potter and the philosopher's stone\"}, 'created_at': '2024-06-14 at 09:48:39', 'updated_at': '2024-06-14T09:48:39.631937Z', 'edition': '2015', 'category': 'Fiction', 'count': 142, 'price': '350', 'available': True}, {'uid': '03197592-ec4e-4914-ba08-03c69190e8f3', 'book': {'uid': '56f5d85c-eb1b-46ef-95c8-687bee8aec22', 'created_at': '2024-06-14 at 09:49:53', 'updated_at': '2024-06-15 at 12:18:34', 'authors': [{'uid': '19aee54b-e1ef-4c65-bfb4-3cb2a837179f', 'name': 'Dan Brown'}], 'name': 'The Da Vinci Code'}, 'created_at': '2024-06-14 at 09:50:52', 'updated_at': '2024-06-14T09:50:52.486615Z', 'edition': '2003', 'category': 'Mystery', 'count': 10, 'price': '295', 'available': True}, {'uid': '3b73b44b-21fe-4e69-b7da-f1ea96795ebd', 'book': {'uid': '471caece-34cb-4553-af01-dd841bba6516', 'created_at': '2024-06-14 at 09:52:21', 'updated_at': '2024-06-14 at 09:52:21', 'authors': [{'uid': 'bd149751-fb18-4714-a2f0-d37fa33a8b67', 'name': 'Helen Keller'}], 'name': 'The story of my life'}, 'created_at': '2024-06-14 at 09:53:26', 'updated_at': '2024-06-14T09:53:26.208732Z', 'edition': '1903', 'category': 'Biography', 'count': 42, 'price': '199', 'available': True}]"
      ]
     },
     "execution_count": 15,
     "metadata": {},
     "output_type": "execute_result"
    }
   ],
   "source": [
    "book_record_instance = BookRecord.objects.all()\n",
    "\n",
    "book_record_serializer = BookRecordSerializer(instance = book_record_instance, many=True)\n",
    "book_record_serializer.data"
   ]
  },
  {
   "cell_type": "code",
   "execution_count": null,
   "id": "d0867cb6",
   "metadata": {},
   "outputs": [],
   "source": []
  }
 ],
 "metadata": {
  "kernelspec": {
   "display_name": "Django Shell-Plus",
   "language": "python",
   "name": "django_extensions"
  },
  "language_info": {
   "codemirror_mode": {
    "name": "ipython",
    "version": 3
   },
   "file_extension": ".py",
   "mimetype": "text/x-python",
   "name": "python",
   "nbconvert_exporter": "python",
   "pygments_lexer": "ipython3",
   "version": "3.11.7"
  }
 },
 "nbformat": 4,
 "nbformat_minor": 5
}
