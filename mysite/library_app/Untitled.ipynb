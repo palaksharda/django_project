{
 "cells": [
  {
   "cell_type": "code",
   "execution_count": 15,
   "id": "a431642d",
   "metadata": {},
   "outputs": [],
   "source": [
    "from pprint import pprint \n",
    "import os\n",
    "import django\n",
    "\n",
    "os.environ.setdefault('DJANGO_SETTINGS_MODULE', 'rest.settings')\n",
    "os.environ[\"DJANGO_ALLOW_ASYNC_UNSAFE\"] = \"true\"\n",
    "\n",
    "django.setup()"
   ]
  },
  {
   "cell_type": "code",
   "execution_count": 2,
   "id": "f9bd4d94",
   "metadata": {},
   "outputs": [],
   "source": [
    "from library_app.models import *  "
   ]
  },
  {
   "cell_type": "code",
   "execution_count": 3,
   "id": "e8eefbef",
   "metadata": {},
   "outputs": [],
   "source": [
    "from django.shortcuts import get_object_or_404\n",
    "from rest_framework.response import Response\n",
    "from rest_framework import status"
   ]
  },
  {
   "cell_type": "code",
   "execution_count": 4,
   "id": "37f7f2f3",
   "metadata": {},
   "outputs": [],
   "source": [
    "from library_app.models import *  "
   ]
  },
  {
   "cell_type": "code",
   "execution_count": 30,
   "id": "adc1aa19",
   "metadata": {},
   "outputs": [],
   "source": [
    "def create_book_detail(data):\n",
    "    \n",
    "        name = data.get(\"name\")\n",
    "        authors = data.get(\"authors\")\n",
    "        book_detail = BookDetail.objects.create(name=name)\n",
    "        book_detail.authors.set(authors)\n",
    "        book_detail.save()\n",
    "        serialized_data = BookDetailHandler._convert_to_dict(book_detail)\n",
    "        return Response(\n",
    "            data={\n",
    "                \"message\": \"New book detail record created\",\n",
    "                \"data\": serialized_data\n",
    "            },\n",
    "            status=status.HTTP_201_CREATED\n",
    "        )"
   ]
  },
  {
   "cell_type": "code",
   "execution_count": 5,
   "id": "d276ba18",
   "metadata": {},
   "outputs": [],
   "source": [
    "def retrieve_book_detail(book_details_uid):\n",
    "    book_detail = get_object_or_404(BookDetail, uid=book_details_uid)\n",
    "    serialized_data = _convert_to_dict(book_detail)  # Note: Use _convert_to_dict directly since it's a local function\n",
    "    return Response(\n",
    "        data={\n",
    "            \"message\": \"Book detail record retrieved\",\n",
    "            \"data\": serialized_data\n",
    "        },\n",
    "        status=status.HTTP_200_OK\n",
    "    )\n",
    "\n",
    "def _convert_to_dict(book_detail):\n",
    "    return {\n",
    "        \"id\": book_detail.uid,\n",
    "        \"name\": book_detail.name,\n",
    "        \"authors\": list(book_detail.authors.values_list('uid', flat=True))\n",
    "    }"
   ]
  },
  {
   "cell_type": "code",
   "execution_count": 6,
   "id": "0ef326c6",
   "metadata": {},
   "outputs": [
    {
     "data": {
      "text/plain": [
       "<Response status_code=200, \"text/html; charset=utf-8\">"
      ]
     },
     "execution_count": 6,
     "metadata": {},
     "output_type": "execute_result"
    }
   ],
   "source": [
    "retrieve_book_detail(book_details_uid = \"e17ea690-2bea-4445-82f4-94d3e8c0e501\")"
   ]
  },
  {
   "cell_type": "code",
   "execution_count": 8,
   "id": "a3958ae5",
   "metadata": {},
   "outputs": [],
   "source": [
    "class Book_Detail_Handler:\n",
    "    \n",
    "    @staticmethod\n",
    "    def create_book_details(data):\n",
    "        try:\n",
    "            # Validate data\n",
    "            if not data.get('name') or not data.get('authors'):\n",
    "                return {\"message\": \"data is missing\"}\n",
    "\n",
    "            # Create the BookDetail\n",
    "            book_details = BookDetail.objects.create(name=data['name'])\n",
    "\n",
    "            # Create or get Author instances and add to the book\n",
    "            for author_name in data['authors']:\n",
    "                author, created = Author.objects.get_or_create(name=author_name)\n",
    "                book_details.authors.add(author)\n",
    "\n",
    "            return {\"message\": \"Book details saved successfully\",\n",
    "                     \"data\": data}\n",
    "\n",
    "        except Exception as e:\n",
    "            return {\"message\": str(e)}\n",
    "      \n",
    "    \n",
    "    @staticmethod\n",
    "    def update_book_detail(book_id, data):\n",
    "        try:\n",
    "            if not data.get('name') or not data.get('authors') or not book_id:\n",
    "                return {\"message\": \"data is missing\"}\n",
    "            \n",
    "            # Find the book record based on book_id\n",
    "            book_update = BookDetail.objects.get(uid=book_id)\n",
    "            book_update.name = data['name']\n",
    "            book_update.save()  # Save the name update first\n",
    "            \n",
    "            # Clear existing authors\n",
    "            book_update.authors.clear()\n",
    "            \n",
    "            # Add new authors\n",
    "            for author_name in data['authors']:\n",
    "                author, created = Author.objects.get_or_create(name=author_name)\n",
    "                book_update.authors.add(author)\n",
    "            \n",
    "            return {\"message\": \"Book details updated successfully\",\n",
    "                    \"data\" : data\n",
    "                   }\n",
    "\n",
    "\n",
    "        except Exception as e:\n",
    "            return {\"message\": str(e)}\n",
    "            \n",
    "     \n",
    "    \n",
    "    @staticmethod\n",
    "    def retrieve_book_detail(book_id):\n",
    "        try:\n",
    "            if not book_id:\n",
    "                return {\"message\": \"book_id is missing\"}\n",
    "            \n",
    "            #retrive the book details based on book_id\n",
    "            book_retrive=BookDetail.objects.get(uid=book_id)\n",
    "            \n",
    "            authors=[]\n",
    "            for auth in book_retrive.authors.all():\n",
    "                authors.append(auth.name)\n",
    "                \n",
    "                \n",
    "            response={\n",
    "                \"name\":book_retrive.name,\n",
    "                \"authors\":authors,\n",
    "            }\n",
    "            \n",
    "            return {\"message\": \"Book details retrive Successfully\",\n",
    "                     \"data\": response\n",
    "                   }\n",
    "        except Exception as e:\n",
    "            return {\"message\": str(e)}\n",
    "                \n",
    "            \n",
    "            \n",
    "    @staticmethod        \n",
    "    def delete_book_detail(book_id):\n",
    "        try:\n",
    "            if not book_id:\n",
    "                return {\"message\": \"book_id is missing\"}\n",
    "            \n",
    "            #delete book details based on uid\n",
    "            book_delete=BookDetail.objects.get(uid=book_id)\n",
    "            \n",
    "            authors = [auth.name for auth in book_delete.authors.all()]\n",
    "                \n",
    "            response={\n",
    "                \"name\":book_delete.name,\n",
    "                \"authors\":authors,\n",
    "            }\n",
    "            \n",
    "            book_delete.delete()\n",
    "            \n",
    "            return {\"message\": \"Book details deleted Successfully\",\n",
    "                     \"data\": response\n",
    "                   }\n",
    "        \n",
    "        except Exception as e:\n",
    "            return {\"message\": str(e)}\n",
    "        \n",
    "        \n",
    "        "
   ]
  },
  {
   "cell_type": "code",
   "execution_count": 101,
   "id": "319170ca",
   "metadata": {},
   "outputs": [
    {
     "name": "stdout",
     "output_type": "stream",
     "text": [
      "{'message': 'Book details saved successfully'}\n"
     ]
    }
   ],
   "source": [
    "data = {\n",
    "    \"name\": \"Write me a love story\",\n",
    "    \"authors\": [\"Ravinder Singh\"]\n",
    "}\n",
    "response = Book_Detail_Handler.create_book_details(data)\n",
    "print(response)"
   ]
  },
  {
   "cell_type": "code",
   "execution_count": 121,
   "id": "b31b1a1b",
   "metadata": {},
   "outputs": [
    {
     "name": "stdout",
     "output_type": "stream",
     "text": [
      "e17ea690-2bea-4445-82f4-94d3e8c0e501\n",
      "5b7d1db1-a8e1-4f32-b857-55f902f72415\n",
      "56f5d85c-eb1b-46ef-95c8-687bee8aec22\n",
      "471caece-34cb-4553-af01-dd841bba6516\n",
      "6deb3f62-ab19-4a4f-924f-31a391e1ffe5\n",
      "0bf9df3c-9037-4b30-ad1e-4c003cc567e1\n"
     ]
    }
   ],
   "source": [
    "obj=BookDetail.objects.all()\n",
    "for a in obj:\n",
    "    print(a.uid)"
   ]
  },
  {
   "cell_type": "code",
   "execution_count": 14,
   "id": "57f59f5a",
   "metadata": {
    "scrolled": true
   },
   "outputs": [
    {
     "name": "stdout",
     "output_type": "stream",
     "text": [
      "{'message': 'Book details retrive Successfully', 'data': {'name': 'The Da Vinci Code', 'authors': ['Dan Brown']}}\n"
     ]
    }
   ],
   "source": [
    "book_id='56f5d85c-eb1b-46ef-95c8-687bee8aec22'\n",
    "response = Book_Detail_Handler.retrieve_book_detail(book_id)\n",
    "print(response)"
   ]
  },
  {
   "cell_type": "code",
   "execution_count": 11,
   "id": "7c3b9442",
   "metadata": {},
   "outputs": [
    {
     "name": "stdout",
     "output_type": "stream",
     "text": [
      "{'message': 'Book details updated successfully', 'data': {'name': 'Write me a love story', 'authors': ['Ravinder Singh']}}\n"
     ]
    }
   ],
   "source": [
    "data = {\n",
    "    \"name\": \"Write me a love story\",\n",
    "    \"authors\": [\"Ravinder Singh\"]\n",
    "}\n",
    "book_id='56f5d85c-eb1b-46ef-95c8-687bee8aec22'\n",
    "response = Book_Detail_Handler.update_book_detail(book_id, data)\n",
    "print(response)"
   ]
  },
  {
   "cell_type": "code",
   "execution_count": 13,
   "id": "d952a623",
   "metadata": {},
   "outputs": [
    {
     "name": "stdout",
     "output_type": "stream",
     "text": [
      "{'message': 'Book details updated successfully', 'data': {'name': 'The Da Vinci Code', 'authors': ['Dan Brown']}}\n"
     ]
    }
   ],
   "source": [
    "data = {\n",
    "    \"name\": \"The Da Vinci Code\",\n",
    "    \"authors\": [\"Dan Brown\"]\n",
    "}\n",
    "book_id='56f5d85c-eb1b-46ef-95c8-687bee8aec22'\n",
    "response = Book_Detail_Handler.update_book_detail(book_id, data)\n",
    "print(response)"
   ]
  },
  {
   "cell_type": "code",
   "execution_count": 161,
   "id": "f37c675f",
   "metadata": {},
   "outputs": [
    {
     "name": "stdout",
     "output_type": "stream",
     "text": [
      "{'message': \"['“56d85c-eb1b-46ef-95c8-687bee8aec22” is not a valid UUID.']\"}\n"
     ]
    }
   ],
   "source": [
    "book_id='56f5d85c-eb1b-46ef-95c8-687bee8aec22'\n",
    "response = Book_Detail_Handler.delete_book_detail(book_id)\n",
    "print(response)"
   ]
  },
  {
   "cell_type": "code",
   "execution_count": null,
   "id": "5e8764a1",
   "metadata": {},
   "outputs": [],
   "source": []
  }
 ],
 "metadata": {
  "kernelspec": {
   "display_name": "Django Shell-Plus",
   "language": "python",
   "name": "django_extensions"
  },
  "language_info": {
   "codemirror_mode": {
    "name": "ipython",
    "version": 3
   },
   "file_extension": ".py",
   "mimetype": "text/x-python",
   "name": "python",
   "nbconvert_exporter": "python",
   "pygments_lexer": "ipython3",
   "version": "3.11.7"
  }
 },
 "nbformat": 4,
 "nbformat_minor": 5
}
